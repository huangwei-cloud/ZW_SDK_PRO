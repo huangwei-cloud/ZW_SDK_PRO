{
 "cells": [
  {
   "cell_type": "code",
   "execution_count": 1,
   "id": "571a9b23",
   "metadata": {},
   "outputs": [],
   "source": [
    "import ZW_AWG1000\n",
    "import numpy as np\n",
    "import time\n",
    "import csv\n",
    "import os\n",
    "from matplotlib import pyplot as plt\n",
    "import datetime"
   ]
  },
  {
   "cell_type": "code",
   "execution_count": 2,
   "id": "3ecb4234",
   "metadata": {},
   "outputs": [],
   "source": [
    "handle_data = ZW_AWG1000.AWG1000()\n",
    "handle_cmd = ZW_AWG1000.AWG1000()"
   ]
  },
  {
   "cell_type": "code",
   "execution_count": 3,
   "id": "64b3586a",
   "metadata": {},
   "outputs": [
    {
     "name": "stdout",
     "output_type": "stream",
     "text": [
      "设备DC通道校准系数：\n",
      "{1: [2.571, -0.3182], 2: [2.5894, -0.3527], 3: [2.6323, -0.3693], 4: [2.5926, -0.4097], 5: [2.6216, -0.3162], 6: [2.5847, -0.4064], 7: [2.6018, -0.2082], 8: [2.6189, -0.5356]}\n",
      "设备初始化完成...\n"
     ]
    }
   ],
   "source": [
    "handle_cmd.connect(\"192.168.1.100\", 9001)                        #连接设备\n",
    "handle_data.connect(\"192.168.1.100\", 9002)"
   ]
  },
  {
   "cell_type": "code",
   "execution_count": 4,
   "id": "e307d7b1",
   "metadata": {},
   "outputs": [],
   "source": [
    "for i in range(1,9,1):\n",
    "    handle_cmd.set_output_mode(i, \"AC\")                              # 通道i设置AC DC模式输出(注意大小写)"
   ]
  },
  {
   "cell_type": "code",
   "execution_count": 5,
   "id": "3eca4fa2",
   "metadata": {},
   "outputs": [],
   "source": [
    "for i in range(1,9,1):\n",
    "    handle_cmd.set_trigger_param(i, 0, 0, 0)                         # 通道i设置触发参数（触发通道0，后面板TRIG_IN）"
   ]
  },
  {
   "cell_type": "code",
   "execution_count": 6,
   "id": "7e271eba",
   "metadata": {},
   "outputs": [
    {
     "data": {
      "text/plain": [
       "True"
      ]
     },
     "execution_count": 6,
     "metadata": {},
     "output_type": "execute_result"
    }
   ],
   "source": [
    "handle_cmd.close_channel([1,2,3,4,5,6,7,8])                      # 关闭通道（发送波形前必须关闭通道）"
   ]
  },
  {
   "cell_type": "code",
   "execution_count": 7,
   "id": "0c57dca5",
   "metadata": {},
   "outputs": [
    {
     "name": "stdout",
     "output_type": "stream",
     "text": [
      "通道1数据下载成功\n",
      "通道2数据下载成功\n",
      "通道3数据下载成功\n",
      "通道4数据下载成功\n",
      "通道5数据下载成功\n",
      "通道6数据下载成功\n",
      "通道7数据下载成功\n",
      "通道8数据下载成功\n"
     ]
    }
   ],
   "source": [
    "from matplotlib import pyplot as plt\n",
    "wave_data = handle_cmd.sin_wave(1,50e+6,0,100e-9) #amp：[0,1] ,freq：[1MHz-1GHz]单位Hz ,phase[0,360] ,脉宽[8ns-800ms]（单位ns）\n",
    "# wave_data = handle_cmd.pulsewave_gen(2, 100e-9,i) # Vset :[-2.000,2.000]单位：V ；脉宽[8ns-800ms]（单位ns） ； ch :[1,8]\n",
    "# plt.plot(wave_data)\n",
    "for i in range(1,9):\n",
    "    status = handle_data.send_waveform_data(wave_data,i)\n",
    "    print(f'通道{i}数据下载成功') if status else print(f'通道{i}数据下载失败')\n",
    "    time.sleep(0.1) "
   ]
  },
  {
   "cell_type": "code",
   "execution_count": 8,
   "id": "d246d1e6",
   "metadata": {},
   "outputs": [
    {
     "data": {
      "text/plain": [
       "True"
      ]
     },
     "execution_count": 8,
     "metadata": {},
     "output_type": "execute_result"
    }
   ],
   "source": [
    "handle_cmd.open_channel([1,2,3,4,5,6,7,8])  # 打开通道"
   ]
  },
  {
   "cell_type": "code",
   "execution_count": 9,
   "id": "1e84eb96",
   "metadata": {},
   "outputs": [],
   "source": [
    "for i in range(1,9,1):\n",
    "    handle_cmd.set_rf_atten(i, 0)  # 通道设置输出功率衰减 ch: [1:8] atten:[0:31]单位：dB"
   ]
  },
  {
   "cell_type": "markdown",
   "id": "eef24bee",
   "metadata": {},
   "source": [
    "# ip查询修改"
   ]
  },
  {
   "cell_type": "code",
   "execution_count": null,
   "id": "34c520fa",
   "metadata": {},
   "outputs": [],
   "source": [
    "handle_cmd.open_uart(\"COM3\")                                     #打开串口（\"COM3\"根据实际连接PC）"
   ]
  },
  {
   "cell_type": "code",
   "execution_count": null,
   "id": "ce620f7c",
   "metadata": {},
   "outputs": [],
   "source": [
    "handle_cmd.get_dev_ip()                                          #通过串口查询设备IP"
   ]
  },
  {
   "cell_type": "code",
   "execution_count": null,
   "id": "1bf53a9d",
   "metadata": {},
   "outputs": [],
   "source": [
    "handle_cmd.change_dev_ip(\"eth\",\"192.168.1.100\")                  #修改IP(eth：网口，uart：串口)"
   ]
  },
  {
   "cell_type": "markdown",
   "id": "bbda64f9",
   "metadata": {},
   "source": [
    "# 参考切换"
   ]
  },
  {
   "cell_type": "code",
   "execution_count": null,
   "id": "e838328e",
   "metadata": {},
   "outputs": [],
   "source": [
    "handle_cmd.set_refclk(\"ext_ref\", 10)  # 设置外参考 10MHz or 100MHz"
   ]
  },
  {
   "cell_type": "code",
   "execution_count": null,
   "id": "130160d7",
   "metadata": {},
   "outputs": [],
   "source": [
    "handle_cmd.set_refclk(\"int_ref\", 100)  # 设置内参考   注：切换参考后需要重新连下网络"
   ]
  },
  {
   "cell_type": "code",
   "execution_count": null,
   "id": "21d3a0b5",
   "metadata": {},
   "outputs": [],
   "source": []
  },
  {
   "cell_type": "code",
   "execution_count": null,
   "id": "cc1ed25e",
   "metadata": {},
   "outputs": [],
   "source": [
    "handle_cmd.close_uart()  # 关闭串口\n",
    "handle_cmd.disconnect()  # 断开连接\n",
    "handle_data.disconnect()  # 断开连接"
   ]
  }
 ],
 "metadata": {
  "kernelspec": {
   "display_name": "Python 3 (ipykernel)",
   "language": "python",
   "name": "python3"
  },
  "language_info": {
   "codemirror_mode": {
    "name": "ipython",
    "version": 3
   },
   "file_extension": ".py",
   "mimetype": "text/x-python",
   "name": "python",
   "nbconvert_exporter": "python",
   "pygments_lexer": "ipython3",
   "version": "3.9.7"
  }
 },
 "nbformat": 4,
 "nbformat_minor": 5
}
