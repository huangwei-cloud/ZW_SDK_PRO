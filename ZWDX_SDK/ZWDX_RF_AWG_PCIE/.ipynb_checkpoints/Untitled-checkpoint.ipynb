{
 "cells": [
  {
   "cell_type": "code",
   "execution_count": 1,
   "id": "d1bebb24",
   "metadata": {},
   "outputs": [],
   "source": [
    "from ZW_RFAWG2000_PCIE import RFAWG2000_PCIE\n",
    "import numpy as np\n",
    "import matplotlib.pyplot as plt\n",
    "import time\n",
    "import struct\n",
    "import ctypes"
   ]
  },
  {
   "cell_type": "code",
   "execution_count": 12,
   "id": "ec5792c6",
   "metadata": {},
   "outputs": [],
   "source": [
    "trigcnt = 512\n",
    "\n",
    "param_dic = {\n",
    "    \"REG0Ctrl\": 0x80000000,  # 控制寄存器\n",
    "    \"REG1PhaseParamDataLen\": 0xa000,  # 相参数据长度\n",
    "    \"REG2AdCollectLen\": 0x1400,  # AD采集数据长度\n",
    "    \"REG3AdCollectDelay\": 0x60,  # ADC采集延时\n",
    "    \"REG4Dac1PlayLen\": (trigcnt << 16) | 0x0b00,  # DAC1播放次数和播放个数\n",
    "    \"REG5Dac2PlayLen\": (trigcnt << 16) | 0x0b00,  # DAC2播放次数和播放个数\n",
    "    \"REG6Dac3PlayLen\": (trigcnt << 16) | 0x0b00,  # DAC3播放次数和播放个数\n",
    "    \"REG7Dac4PlayLen\": (trigcnt << 16) | 0x0b00,  # DAC4播放次数和播放个数\n",
    "    \"REG8Dac5PlayLen\": (trigcnt << 16) | 0x0b00,  # DAC5播放次数和播放个数\n",
    "    \"REG9Dac12PlayDelay\": (0 << 16) | 0,  # DAC1,2播放延时\n",
    "    \"REG10Dac34PlayDelay\": (0 << 16) | 0,  # DAC1,2播放延时\n",
    "    \"REG11Dac5PlayDelay\": 0 << 16,  # 播放延时（DAC5）\n",
    "    \"REG12RefClkPhaseL32bit\": 0x00000000,  # 参考信号相位低32位\n",
    "    \"REG13RefClkPhaseH16bit\": 0x0001 << 16,  # 参考信号相位高16位\n",
    "    \"REG14RefClkFsL32bit\": 0x00000000,  # 参考信号频率低32位\n",
    "    \"REG15RefClkFsH16bit\": 0x5000,  # 参考信号频率高16位\n",
    "}"
   ]
  },
  {
   "cell_type": "code",
   "execution_count": 13,
   "id": "23629ca2",
   "metadata": {},
   "outputs": [],
   "source": [
    "def generate_sin_waveform(A, f, fs, phi, t):\n",
    "    \"\"\"\n",
    "    产生正弦波数据\n",
    "    :param A: 振幅\n",
    "    :param f: 信号频率Hz\n",
    "    :param fs: 采样频率Hz\n",
    "    :param phi: 相位\n",
    "    :param t: 时间长度秒(s)\n",
    "    :return:\n",
    "    \"\"\"\n",
    "    # 若时间序列长度为 t=1s,\n",
    "    # 采样频率 fs=1000 Hz, 则采样时间间隔 Ts=1/fs=0.001s\n",
    "    # 对于时间序列采样点个数为 n=t/Ts=1/0.001=1000, 即有1000个点,每个点间隔为 Ts\n",
    "    Ts = 1 / fs\n",
    "    n = t / Ts\n",
    "    n = np.arange(n)\n",
    "    y = A * np.sin(2 * np.pi * f * n * Ts + phi * (np.pi / 180))\n",
    "    return y"
   ]
  },
  {
   "cell_type": "code",
   "execution_count": 14,
   "id": "6199177b",
   "metadata": {},
   "outputs": [],
   "source": [
    "obj = RFAWG2000_PCIE()\n",
    "\n",
    "obj.ethernet_connect(\"192.168.1.10\", 7)"
   ]
  },
  {
   "cell_type": "code",
   "execution_count": 15,
   "id": "68f13e32",
   "metadata": {},
   "outputs": [],
   "source": [
    "obj.config_param(param_dic)\n",
    "\n",
    "wave1 = generate_sin_waveform(A=1, f=6.75e+9, fs=8e+9, phi=0, t=25e-6) * (2 ** 15 - 1)\n",
    "\n",
    "wave2 = generate_sin_waveform(A=1, f=6.75e+9, fs=8e+9, phi=0, t=12e-6) * (2 ** 15 - 1)\n",
    "# x = 8e+9 * 20e-6\n",
    "# print(x)\n",
    "# x2 = range(int(x))\n",
    "# plt.title(\"send wave\")\n",
    "# plt.plot(x2, wave)\n",
    "# plt.show()\n",
    "\n",
    "obj.send_dac_data(0, wave2)\n",
    "obj.send_dac_data(1, wave1)\n",
    "obj.send_dac_data(2, wave1)\n",
    "obj.send_dac_data(3, wave1)\n",
    "obj.send_dac_data(4, wave1)\n",
    "\n",
    "# path = r\"F:\\FPGA\\xf\\20_PCIE_CTRL\\code\\matlab\\gen_data_1.txt\"\n",
    "# obj.send_dac_file(0, path)\n",
    "# obj.send_dac_file(1, path)\n",
    "# obj.send_dac_file(2, path)\n",
    "# obj.send_dac_file(3, path)\n",
    "\n",
    "\n"
   ]
  },
  {
   "cell_type": "code",
   "execution_count": 19,
   "id": "b9faff71",
   "metadata": {},
   "outputs": [],
   "source": [
    "obj.dev_mem_write(0x80040000, 0, 0x80000020)  # open adc ch    bit 5\n",
    "obj.dev_mem_write(0x80040000, 0, 0x80007C20)  # open dac ch\tbit 10 - 14 "
   ]
  },
  {
   "cell_type": "code",
   "execution_count": 86,
   "id": "d1a89ae6",
   "metadata": {},
   "outputs": [],
   "source": [
    "obj.dev_mem_write(0x80040004, 0, 0x00010000)  # open dac ch\tbit 10 - 14 \n",
    "obj.dev_mem_write(0x80040048, 0, 0x00000000)  # open adc ch    bit 5"
   ]
  },
  {
   "cell_type": "code",
   "execution_count": 11,
   "id": "c305ff26",
   "metadata": {},
   "outputs": [],
   "source": [
    "obj.dev_mem_write(0x80040056, 0, 0x00000000)  # open adc ch    bit 5\n",
    "obj.dev_mem_write(0x80040060, 0, 0x00010000)  # open dac ch\tbit 10 - 14 "
   ]
  },
  {
   "cell_type": "code",
   "execution_count": 6,
   "id": "3912e826",
   "metadata": {},
   "outputs": [],
   "source": [
    "# obj.dev_mem_write(0x80040000, 0, 0x80000020)  # open adc ch    bit 5\n",
    "# obj.dev_mem_write(0x80040000, 0, 0x800FFC20)  # open dac ch\tbit 10 - 14 （continue play）"
   ]
  },
  {
   "cell_type": "code",
   "execution_count": 14,
   "id": "e6e69bcf",
   "metadata": {},
   "outputs": [],
   "source": [
    " obj.dev_mem_write(0x80040000, 0, 0x80000000)  # open adc ch    bit 5"
   ]
  },
  {
   "cell_type": "code",
   "execution_count": 13,
   "id": "db93fe70",
   "metadata": {},
   "outputs": [],
   "source": [
    "obj.setbit(0x80040000, 0, 15)  # open dac ch\tbit 10 - 14 （continue play）\n",
    "obj.setbit(0x80040000, 0, 16)  # open dac ch\tbit 10 - 14 （continue play）\n",
    "obj.setbit(0x80040000, 0, 17)  # open dac ch\tbit 10 - 14 （continue play）\n",
    "obj.setbit(0x80040000, 0, 18)  # open dac ch\tbit 10 - 14 （continue play）\n",
    "obj.setbit(0x80040000, 0, 19)  # open dac ch\tbit 10 - 14 （continue play）\n",
    "obj.setbit(0x80040000, 0, 4)  # open dac ch\tbit 10 - 14 （continue play）\n",
    "time.sleep(1)\n",
    "obj.setbit(0x80040000, 0, 3)  # open dac ch\tbit 10 - 14 （continue play）\n",
    "time.sleep(1)\n",
    "obj.resetbit(0x80040000, 0, 3)  # open dac ch\tbit 10 - 14 （continue play）\n"
   ]
  },
  {
   "cell_type": "code",
   "execution_count": 23,
   "id": "0b4fce6e",
   "metadata": {},
   "outputs": [],
   "source": [
    "obj.dac_play_user(trigcnt)"
   ]
  },
  {
   "cell_type": "code",
   "execution_count": 21,
   "id": "8f199903",
   "metadata": {},
   "outputs": [
    {
     "data": {
      "image/png": "[encoded data removed]",
      "text/plain": [
       "<Figure size 432x288 with 1 Axes>"
      ]
     },
     "metadata": {
      "needs_background": "light"
     },
     "output_type": "display_data"
    }
   ],
   "source": [
    "result = obj.get_iq_result_new(trigcnt)\n",
    "buffer = np.reshape(result, (len(result)//2, 2))\n",
    "\n",
    "I = []\n",
    "Q = []\n",
    "z = []\n",
    "for i in range(len(buffer)):\n",
    "    I.append(buffer[i][0])\n",
    "    Q.append(buffer[i][1])\n",
    "    z.append(complex(buffer[i][0], buffer[i][1]))\n",
    "mod = np.abs(z)\n",
    "maxvalue = np.max(mod)\n",
    "I2 = [i / maxvalue for i in I]\n",
    "Q2 = [i / maxvalue for i in Q]\n",
    "\n",
    "plt.scatter(I2, Q2)\n",
    "plt.show()"
   ]
  },
  {
   "cell_type": "code",
   "execution_count": 2,
   "id": "987e9573",
   "metadata": {},
   "outputs": [],
   "source": [
    "fd = open(r\"C:\\Users\\huangwei\\AppData\\Roaming\\feiq\\RecvFace\\研发笔记本0047\\gen_data_4_8.txt\", 'r')\n",
    "fdbin = open(r\"C:\\Users\\huangwei\\AppData\\Roaming\\feiq\\RecvFace\\研发笔记本0047\\gen_data_4_8.bin\", 'wb')\n",
    "fd.readline()\n",
    "y = []\n",
    "for i in range(320):\n",
    "    str = fd.readline()\n",
    "    x = int(str[2:6], 16)\n",
    "    y.append(x)\n",
    "    fdbin.write(struct.pack('H', x))"
   ]
  },
  {
   "cell_type": "code",
   "execution_count": 4,
   "id": "e55630a0",
   "metadata": {},
   "outputs": [
    {
     "data": {
      "text/plain": [
       "[<matplotlib.lines.Line2D at 0x24b95137850>]"
      ]
     },
     "execution_count": 4,
     "metadata": {},
     "output_type": "execute_result"
    },
    {
     "data": {
      "image/png": "[encoded data removed]",
      "text/plain": [
       "<Figure size 432x288 with 1 Axes>"
      ]
     },
     "metadata": {
      "needs_background": "light"
     },
     "output_type": "display_data"
    }
   ],
   "source": [
    "temp = np.asarray(y,np.int16)\n",
    "z = np.arange(0,320,1)\n",
    "plt.plot(z, temp)"
   ]
  },
  {
   "cell_type": "code",
   "execution_count": null,
   "id": "09bfeb84",
   "metadata": {},
   "outputs": [],
   "source": []
  }
 ],
 "metadata": {
  "kernelspec": {
   "display_name": "Python 3 (ipykernel)",
   "language": "python",
   "name": "python3"
  },
  "language_info": {
   "codemirror_mode": {
    "name": "ipython",
    "version": 3
   },
   "file_extension": ".py",
   "mimetype": "text/x-python",
   "name": "python",
   "nbconvert_exporter": "python",
   "pygments_lexer": "ipython3",
   "version": "3.9.7"
  }
 },
 "nbformat": 4,
 "nbformat_minor": 5
}
