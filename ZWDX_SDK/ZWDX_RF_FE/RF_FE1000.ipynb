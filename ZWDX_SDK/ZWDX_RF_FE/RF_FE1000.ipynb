{
 "cells": [
  {
   "cell_type": "code",
   "execution_count": null,
   "outputs": [],
   "source": [
    "from ZW_RF_FE1000 import RF_FE1000, XY_CH, PI_CH, RO_CH\n",
    "import numpy as np"
   ],
   "metadata": {
    "collapsed": false
   },
   "id": "ddcf6ad3"
  },
  {
   "cell_type": "code",
   "execution_count": null,
   "id": "eb8ac158",
   "metadata": {},
   "outputs": [],
   "source": [
    "obj = RF_FE1000()\n",
    "obj.ethernet_connect(\"192.168.1.20\", 8080)"
   ]
  },
  {
   "cell_type": "code",
   "execution_count": null,
   "id": "c9f69c95",
   "metadata": {},
   "outputs": [],
   "source": [
    "# PCIE Card1 \"XY-1/2/3/4\" connect to \"B_XY1/2/3/4_1\"\n",
    "# CH:Freq is 4.2-5.5GHz, GAIN is ≈5dB, the default attenuation is 30dB.\n",
    "obj.set_xy_att(XY_CH.B_XY4_2, 30)\n",
    "obj.get_xy_att(XY_CH.B_XY4_2)"
   ]
  },
  {
   "cell_type": "code",
   "execution_count": null,
   "id": "415c7888",
   "metadata": {},
   "outputs": [],
   "source": [
    "# PCIE Card1 \"OUT\" connect to \"B_IN1\"\n",
    "# CH:Freq is 6.2-7.5GHz, GAIN is ≈5dB, the default attenuation is 30dB.\n",
    "obj.set_in_att(PI_CH.B_IN1, 30)\n",
    "obj.get_in_att(PI_CH.B_IN1)"
   ]
  },
  {
   "cell_type": "code",
   "execution_count": null,
   "id": "1f3147b5",
   "metadata": {},
   "outputs": [],
   "source": [
    "# PCIE Card1 \"In\" connect to \"B_OUT1\"\n",
    "# CH:Freq is 6.2-7.5GHz, GAIN is ≈55dB, the default attenuation is 60dB.\n",
    "obj.set_out_att(RO_CH.B_OUT1, 60)\n",
    "obj.get_out_att(RO_CH.B_OUT1)"
   ]
  },
  {
   "cell_type": "code",
   "execution_count": null,
   "outputs": [],
   "source": [
    "# obj.set_ip_mask(\"192.168.1.20\") # 更改设备IP地址"
   ],
   "metadata": {
    "collapsed": false
   },
   "id": "8673e318c677c656"
  }
 ],
 "metadata": {
  "kernelspec": {
   "display_name": "Python 3 (ipykernel)",
   "language": "python",
   "name": "python3"
  },
  "language_info": {
   "codemirror_mode": {
    "name": "ipython",
    "version": 3
   },
   "file_extension": ".py",
   "mimetype": "text/x-python",
   "name": "python",
   "nbconvert_exporter": "python",
   "pygments_lexer": "ipython3",
   "version": "3.9.7"
  }
 },
 "nbformat": 4,
 "nbformat_minor": 5
}
