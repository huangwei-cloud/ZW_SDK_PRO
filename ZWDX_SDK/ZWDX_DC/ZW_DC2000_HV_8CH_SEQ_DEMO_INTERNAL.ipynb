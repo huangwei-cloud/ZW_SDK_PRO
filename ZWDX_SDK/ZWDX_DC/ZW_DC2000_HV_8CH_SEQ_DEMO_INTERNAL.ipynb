{
 "cells": [
  {
   "cell_type": "code",
   "execution_count": null,
   "id": "a77f0635",
   "metadata": {},
   "outputs": [],
   "source": [
    "from ZW_DC2000_HV_8CH_SEQ import DC2000"
   ]
  },
  {
   "cell_type": "code",
   "execution_count": null,
   "id": "c26bca6a",
   "metadata": {},
   "outputs": [],
   "source": [
    "obj = DC2000()"
   ]
  },
  {
   "cell_type": "code",
   "execution_count": null,
   "id": "460cb888",
   "metadata": {},
   "outputs": [],
   "source": [
    "obj.ethernet_connect(\"192.168.1.20\", 8080)"
   ]
  },
  {
   "cell_type": "code",
   "execution_count": null,
   "id": "11952a0d",
   "metadata": {},
   "outputs": [],
   "source": [
    "obj.uart_connect(\"COM3\")"
   ]
  },
  {
   "cell_type": "code",
   "execution_count": null,
   "id": "21d71628",
   "metadata": {},
   "outputs": [],
   "source": [
    "obj.set_volt_slope(10000)"
   ]
  },
  {
   "cell_type": "code",
   "execution_count": null,
   "id": "ea82d5f7",
   "metadata": {},
   "outputs": [],
   "source": [
    "# 安全打开通道\n",
    "obj.set_ch_on([8])                                                         # 打开通道8\n",
    "obj.set_ch_on([1, 5, 8])                                                   # 打开1,5,8通道\n",
    "obj.set_ch_on([0])                                                         # 打开所有通道"
   ]
  },
  {
   "cell_type": "code",
   "execution_count": null,
   "id": "af453452",
   "metadata": {},
   "outputs": [],
   "source": [
    "# 获取通道开启状态\n",
    "ch8_status = obj.get_ch_status([8])                                        # 获取通道8开关状态\n",
    "ch158_status = obj.get_ch_status([1, 5, 8])                                # 获取通道1,5,8开关状态\n",
    "chall_status = obj.get_ch_status([0])                                      # 获取所有通道开关状态"
   ]
  },
  {
   "cell_type": "code",
   "execution_count": null,
   "id": "2486365a",
   "metadata": {},
   "outputs": [],
   "source": [
    "# 设置电压\n",
    "obj.set_vol([8], 50)                                                        # 通道5设置5V电压\n",
    "obj.set_vol([1, 5, 8], -50)                                                 # 通道1,5,8设置-5V电压\n",
    "obj.set_vol([0], 50)                                                        # 所有通道设置5V电压"
   ]
  },
  {
   "cell_type": "code",
   "execution_count": null,
   "id": "c26df839",
   "metadata": {},
   "outputs": [],
   "source": [
    "# 获取电压,用户使用\n",
    "ch8vol = obj.get_vol([8])                                                  # 获取通道8电压\n",
    "ch158vol = obj.get_vol([1, 5, 8])                                          # 获取通道5电压\n",
    "obj.get_vol([0])                                                           # 获取所有通道电压"
   ]
  },
  {
   "cell_type": "code",
   "execution_count": null,
   "id": "5cb05f61",
   "metadata": {},
   "outputs": [],
   "source": [
    "# 获取设备温度\n",
    "obj.get_temp()                                                             "
   ]
  },
  {
   "cell_type": "code",
   "execution_count": null,
   "id": "16b7ab2a",
   "metadata": {},
   "outputs": [],
   "source": [
    "obj.set_bw_option([8], 1)                                                   # 启用通道8BW功能\n",
    "obj.set_bw_option([1, 5, 8], 0)                                             # 禁用通道1,5,8BW功能\n",
    "obj.set_bw_option([0], 0)                                                   # 禁用所有通道BW功能"
   ]
  },
  {
   "cell_type": "code",
   "execution_count": null,
   "id": "d5f1aa8b",
   "metadata": {},
   "outputs": [],
   "source": [
    "# 安全关闭通道\n",
    "obj.set_ch_off([8])                                                      # 安全关闭8通道\n",
    "obj.set_ch_off([1, 5, 8])                                                # 安全关闭1,5,8通道\n",
    "obj.set_ch_off([0])                                                      # 安全关闭所有通道"
   ]
  },
  {
   "cell_type": "code",
   "execution_count": null,
   "outputs": [],
   "source": [
    "# 改变设备IP, 不用重启设备，改变后自动生效\n",
    "obj.set_ip_mask(\"192.168.1.20\")"
   ],
   "metadata": {
    "collapsed": false
   },
   "id": "656cc92d8b54a97a"
  },
  {
   "cell_type": "code",
   "execution_count": null,
   "outputs": [],
   "source": [
    "obj.get_ip_mask()"
   ],
   "metadata": {
    "collapsed": false
   },
   "id": "954f90396e2425ef"
  },
  {
   "cell_type": "markdown",
   "source": [
    "### 内部测试使用，给客户的时候需要删除"
   ],
   "metadata": {
    "collapsed": false
   },
   "id": "f2bb419b0f9f40b9"
  },
  {
   "cell_type": "code",
   "execution_count": null,
   "outputs": [],
   "source": [
    "# 测试校准时使用，配置校验参数\n",
    "for i in range(1, 9, 1):\n",
    "    obj._set_verify_code(i, 10, 0)"
   ],
   "metadata": {
    "collapsed": false
   },
   "id": "a4ffbb55d26c2a48"
  },
  {
   "cell_type": "code",
   "execution_count": null,
   "outputs": [],
   "source": [
    "# 从DAC获取电压,需等待电压正常输出后才能读取,需要延时等待,内部测试使用\n",
    "ch1voldac = obj._get_vol_dac([8])                                          # 获取通道8电压\n",
    "ch158voldac = obj._get_vol_dac([1, 5, 8])                                  # 获取通道5电压\n",
    "challvoldac = obj._get_vol_dac([0])                                        # 获取所有通道电压"
   ],
   "metadata": {
    "collapsed": false
   },
   "id": "34e38ea89b1ee53e"
  },
  {
   "cell_type": "code",
   "execution_count": null,
   "id": "d2b49d0e",
   "metadata": {},
   "outputs": [],
   "source": [
    "# 快速关闭通道,内部使用，不建议用户使用\n",
    "obj._set_ch_off_fast([8])                                                # 快速关闭8通道\n",
    "obj._set_ch_off_fast([1, 5, 8])                                          # 快速关闭1,5,8通道\n",
    "obj._set_ch_off_fast([0])                                                # 快速关闭所有通道"
   ]
  },
  {
   "cell_type": "code",
   "execution_count": null,
   "id": "6742b7cd",
   "metadata": {},
   "outputs": [],
   "source": [
    "# 使能/禁用PWM调节精度到2uv\n",
    "obj._set_pwm_status([8], 1)                                             # 使能通道8PWM\n",
    "obj._set_pwm_status([1, 5, 8], 0)                                       # 禁用通道1,5,8PWM\n",
    "obj._set_pwm_status([0], 1)                                             # 使能所有通道PWM"
   ]
  },
  {
   "cell_type": "markdown",
   "source": [
    "# 序列测试"
   ],
   "metadata": {
    "collapsed": false
   },
   "id": "9925ef3817878fb8"
  },
  {
   "cell_type": "code",
   "execution_count": null,
   "outputs": [],
   "source": [
    "from ZW_DC2000_HV_8CH_SEQ import DC2000"
   ],
   "metadata": {
    "collapsed": false
   },
   "id": "d75cf0f86d942cf"
  },
  {
   "cell_type": "code",
   "execution_count": null,
   "outputs": [],
   "source": [
    "obj = DC2000()"
   ],
   "metadata": {
    "collapsed": false
   },
   "id": "8687ef81cab76440"
  },
  {
   "cell_type": "code",
   "execution_count": null,
   "outputs": [],
   "source": [
    "obj.ethernet_connect(\"192.168.1.20\", 8080)"
   ],
   "metadata": {
    "collapsed": false
   },
   "id": "abf88f7e938a52ee"
  },
  {
   "cell_type": "code",
   "execution_count": null,
   "outputs": [],
   "source": [
    "obj.set_volt_slope(10000)"
   ],
   "metadata": {
    "collapsed": false
   },
   "id": "7ac5219fdc9fdf29"
  },
  {
   "cell_type": "code",
   "execution_count": null,
   "outputs": [],
   "source": [
    "obj.set_ch_on([4, 8]) "
   ],
   "metadata": {
    "collapsed": false
   },
   "id": "8afd5b822d3c4272"
  },
  {
   "cell_type": "markdown",
   "source": [
    "### 第1步 设置参数"
   ],
   "metadata": {
    "collapsed": false
   },
   "id": "f51a30387d64dd1b"
  },
  {
   "cell_type": "code",
   "execution_count": null,
   "id": "7a60aac91036a496",
   "metadata": {},
   "outputs": [],
   "source": [
    "obj.set_ch_vol_seq(ch=4, sequence=[10, 20, 30, 40, 50, 60])                     #通道4设置电压序列\n",
    "obj.set_ch_vol_seq(ch=8, sequence=[-10, -20, -30, -40, -50, -60])               #通道8设置电压序列"
   ]
  },
  {
   "cell_type": "code",
   "execution_count": null,
   "outputs": [],
   "source": [
    "obj.set_seq_start(ch=8, start=1, end=5) # 设置通道序列的起始,结束播放位置，里面会使能相应通道的触发使能，等待被触发，测试时给软触发soft_triger(1, cnt=100, interval=5s)\n",
    "obj.set_seq_start(ch=4, start=1, end=5)"
   ],
   "metadata": {
    "collapsed": false
   },
   "id": "108186d81d8218a7"
  },
  {
   "cell_type": "markdown",
   "source": [
    "### 第2步 使能模式与全局触发"
   ],
   "metadata": {
    "collapsed": false
   },
   "id": "11da073c94995c2a"
  },
  {
   "cell_type": "code",
   "execution_count": null,
   "id": "7adbf9a4541397ca",
   "metadata": {
    "scrolled": true
   },
   "outputs": [],
   "source": [
    "obj.set_ch_mode(ch=[4, 8], mode=1) # 切换通道处于正常模式还是外部触发序列模式 0:正常模式 1：序列模式(外部触发)"
   ]
  },
  {
   "cell_type": "code",
   "execution_count": null,
   "outputs": [],
   "source": [
    "obj.set_trig_endis(enable=1) # 使能全局触发 1:使能 0：禁止"
   ],
   "metadata": {
    "collapsed": false
   },
   "id": "1cbb1d9f1dea7d24"
  },
  {
   "cell_type": "markdown",
   "source": [
    "### 第3步 等待外部硬件触发或软件触发"
   ],
   "metadata": {
    "collapsed": false
   },
   "id": "18048fc0e3872109"
  },
  {
   "cell_type": "markdown",
   "source": [],
   "metadata": {
    "collapsed": false
   },
   "id": "b30b7642e47dc29c"
  },
  {
   "cell_type": "code",
   "execution_count": null,
   "outputs": [],
   "source": [
    "# 外部硬件触发"
   ],
   "metadata": {
    "collapsed": false
   },
   "id": "50ede261821e8674"
  },
  {
   "cell_type": "code",
   "execution_count": null,
   "outputs": [],
   "source": [
    "# 软件触发\n",
    "obj.soft_trig(trigcnt=1, interval=1)  # 这里测试给软触发，一般是外部脉冲触发"
   ],
   "metadata": {
    "collapsed": false
   },
   "id": "b619b89777dc3bdc"
  },
  {
   "cell_type": "markdown",
   "source": [
    "### 第4步(可选)： 获取通道当前输出、停止或继续某个通道响应"
   ],
   "metadata": {
    "collapsed": false
   },
   "id": "dcdf0877121e9233"
  },
  {
   "cell_type": "code",
   "execution_count": null,
   "id": "587cbd6736714594",
   "metadata": {},
   "outputs": [],
   "source": [
    "obj.get_ch_current_seq(ch=8)  # 获取通道当前输出的序列号以及电压，例如(6,-60),表示当前运行的序列是6，电压是-60"
   ]
  },
  {
   "cell_type": "code",
   "execution_count": null,
   "outputs": [],
   "source": [
    "obj.set_trig_endis(enable=0) # 禁用全局触发"
   ],
   "metadata": {
    "collapsed": false
   },
   "id": "552bbdbff5377faf"
  },
  {
   "cell_type": "code",
   "execution_count": null,
   "outputs": [],
   "source": [
    "obj.set_seq_stop(ch=8) # 通道8停止播放，里面禁止相应通道的触发使能"
   ],
   "metadata": {
    "collapsed": false
   },
   "id": "c50fddcf90a4d3c9"
  },
  {
   "cell_type": "code",
   "execution_count": null,
   "outputs": [],
   "source": [
    "obj.set_seq_continue(ch=8) # 接着上一个序列播放，里面读取上一次播放的位置，然后+1位置设置下去，触发使能"
   ],
   "metadata": {
    "collapsed": false
   },
   "id": "fafd4cf3c633b3aa"
  },
  {
   "cell_type": "code",
   "execution_count": null,
   "outputs": [],
   "source": [
    "obj.set_trig_endis(enable=1) # 使能全局触发"
   ],
   "metadata": {
    "collapsed": false
   },
   "id": "794fb3e593abf56b"
  },
  {
   "cell_type": "markdown",
   "source": [
    "### 第5步 切换回正常模式"
   ],
   "metadata": {
    "collapsed": false
   },
   "id": "c7c25d502849e3b1"
  },
  {
   "cell_type": "code",
   "execution_count": null,
   "id": "51230c4da17ba4d4",
   "metadata": {},
   "outputs": [],
   "source": [
    "obj.set_trig_endis(enable=0) # 禁用全局触发"
   ]
  },
  {
   "cell_type": "code",
   "execution_count": null,
   "outputs": [],
   "source": [
    "obj.set_ch_mode(ch=[4, 8], mode=0) # 恢复成正常模式"
   ],
   "metadata": {
    "collapsed": false
   },
   "id": "50d17cf8466f90eb"
  },
  {
   "cell_type": "code",
   "execution_count": null,
   "outputs": [],
   "source": [
    "obj.set_ch_off(ch=[4, 8]) # 关闭通道，里面会再次恢复正常模式，然后关闭通道"
   ],
   "metadata": {
    "collapsed": false
   },
   "id": "dc9f9bcd9c42ef6b"
  }
 ],
 "metadata": {
  "kernelspec": {
   "display_name": "Python 3 (ipykernel)",
   "language": "python",
   "name": "python3"
  },
  "language_info": {
   "codemirror_mode": {
    "name": "ipython",
    "version": 3
   },
   "file_extension": ".py",
   "mimetype": "text/x-python",
   "name": "python",
   "nbconvert_exporter": "python",
   "pygments_lexer": "ipython3",
   "version": "3.9.7"
  }
 },
 "nbformat": 4,
 "nbformat_minor": 5
}
