{
 "cells": [
  {
   "cell_type": "code",
   "execution_count": 1,
   "id": "501ef1e2",
   "metadata": {},
   "outputs": [],
   "source": [
    "from ZW_DC2000_HV_8CH import DC2000"
   ]
  },
  {
   "cell_type": "code",
   "execution_count": 2,
   "id": "1b0ecb73",
   "metadata": {},
   "outputs": [],
   "source": [
    "obj = DC2000()"
   ]
  },
  {
   "cell_type": "code",
   "execution_count": 3,
   "id": "252b8e4b",
   "metadata": {},
   "outputs": [
    {
     "data": {
      "text/plain": [
       "True"
      ]
     },
     "execution_count": 3,
     "metadata": {},
     "output_type": "execute_result"
    }
   ],
   "source": [
    "obj.ethernet_connect(\"192.168.1.20\", 8080)"
   ]
  },
  {
   "cell_type": "code",
   "execution_count": 3,
   "id": "a2d909eb",
   "metadata": {},
   "outputs": [
    {
     "data": {
      "text/plain": [
       "True"
      ]
     },
     "execution_count": 3,
     "metadata": {},
     "output_type": "execute_result"
    }
   ],
   "source": [
    "obj.uart_connect(\"COM3\")"
   ]
  },
  {
   "cell_type": "code",
   "execution_count": 15,
   "id": "f95fac75",
   "metadata": {},
   "outputs": [
    {
     "data": {
      "text/plain": [
       "255"
      ]
     },
     "execution_count": 15,
     "metadata": {},
     "output_type": "execute_result"
    }
   ],
   "source": [
    "obj.set_volt_slope(500)"
   ]
  },
  {
   "cell_type": "code",
   "execution_count": 4,
   "id": "b923f425",
   "metadata": {},
   "outputs": [
    {
     "data": {
      "text/plain": [
       "255"
      ]
     },
     "execution_count": 4,
     "metadata": {},
     "output_type": "execute_result"
    }
   ],
   "source": [
    "obj.set_ch_on([0])                                                      "
   ]
  },
  {
   "cell_type": "code",
   "execution_count": 5,
   "id": "3b6f1e5e",
   "metadata": {},
   "outputs": [
    {
     "data": {
      "text/plain": [
       "[1, 1, 1, 1, 1, 1, 1, 1]"
      ]
     },
     "execution_count": 5,
     "metadata": {},
     "output_type": "execute_result"
    }
   ],
   "source": [
    "obj.get_ch_status([0])"
   ]
  },
  {
   "cell_type": "code",
   "execution_count": 10,
   "id": "8400522c",
   "metadata": {},
   "outputs": [
    {
     "data": {
      "text/plain": [
       "255"
      ]
     },
     "execution_count": 10,
     "metadata": {},
     "output_type": "execute_result"
    }
   ],
   "source": [
    "obj.set_vol([0], -100)"
   ]
  },
  {
   "cell_type": "code",
   "execution_count": 14,
   "id": "1ed37bba",
   "metadata": {},
   "outputs": [
    {
     "data": {
      "text/plain": [
       "[-100.000133,\n",
       " -100.000139,\n",
       " -100.000014,\n",
       " -100.000122,\n",
       " -100.000009,\n",
       " -100.000155,\n",
       " -100.000091,\n",
       " -100.000007]"
      ]
     },
     "execution_count": 14,
     "metadata": {},
     "output_type": "execute_result"
    }
   ],
   "source": [
    "obj.get_vol([0])                                                  # 获取通道8电压"
   ]
  },
  {
   "cell_type": "code",
   "execution_count": 18,
   "id": "b2f950aa",
   "metadata": {},
   "outputs": [
    {
     "data": {
      "text/plain": [
       "255"
      ]
     },
     "execution_count": 18,
     "metadata": {},
     "output_type": "execute_result"
    }
   ],
   "source": [
    "obj.set_ch_off([0])                                                      # 安全关闭8通道"
   ]
  },
  {
   "cell_type": "code",
   "execution_count": 5,
   "id": "4a69544c",
   "metadata": {},
   "outputs": [
    {
     "data": {
      "text/plain": [
       "(36.0, 25.5, 24.0)"
      ]
     },
     "execution_count": 5,
     "metadata": {},
     "output_type": "execute_result"
    }
   ],
   "source": [
    "obj.get_temp()"
   ]
  },
  {
   "cell_type": "code",
   "execution_count": null,
   "id": "3ee53841",
   "metadata": {},
   "outputs": [],
   "source": []
  }
 ],
 "metadata": {
  "kernelspec": {
   "display_name": "Python 3 (ipykernel)",
   "language": "python",
   "name": "python3"
  },
  "language_info": {
   "codemirror_mode": {
    "name": "ipython",
    "version": 3
   },
   "file_extension": ".py",
   "mimetype": "text/x-python",
   "name": "python",
   "nbconvert_exporter": "python",
   "pygments_lexer": "ipython3",
   "version": "3.9.7"
  }
 },
 "nbformat": 4,
 "nbformat_minor": 5
}
