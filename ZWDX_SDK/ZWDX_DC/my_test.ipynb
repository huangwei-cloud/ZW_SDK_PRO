{
 "cells": [
  {
   "cell_type": "code",
   "execution_count": 1,
   "id": "7622cd09",
   "metadata": {},
   "outputs": [],
   "source": [
    "from ZW_DC1000 import DC1000"
   ]
  },
  {
   "cell_type": "code",
   "execution_count": 2,
   "id": "0eeb4425",
   "metadata": {},
   "outputs": [],
   "source": [
    "obj = DC1000()"
   ]
  },
  {
   "cell_type": "code",
   "execution_count": 3,
   "id": "51516ba9",
   "metadata": {},
   "outputs": [
    {
     "data": {
      "text/plain": [
       "255"
      ]
     },
     "execution_count": 3,
     "metadata": {},
     "output_type": "execute_result"
    }
   ],
   "source": [
    "obj.ethernet_connect(\"192.168.1.20\", 8080)"
   ]
  },
  {
   "cell_type": "code",
   "execution_count": 4,
   "id": "b95e2cbc",
   "metadata": {},
   "outputs": [
    {
     "data": {
      "text/plain": [
       "255"
      ]
     },
     "execution_count": 4,
     "metadata": {},
     "output_type": "execute_result"
    }
   ],
   "source": [
    "obj.set_volt_slope(1000)"
   ]
  },
  {
   "cell_type": "code",
   "execution_count": 28,
   "id": "c214b6f9",
   "metadata": {},
   "outputs": [
    {
     "data": {
      "text/plain": [
       "255"
      ]
     },
     "execution_count": 28,
     "metadata": {},
     "output_type": "execute_result"
    }
   ],
   "source": [
    "obj.set_ch_on([0])                                                            # 打开所有通道"
   ]
  },
  {
   "cell_type": "code",
   "execution_count": 16,
   "id": "6cc9386e",
   "metadata": {},
   "outputs": [
    {
     "data": {
      "text/plain": [
       "[0, 0, 0, 0, 0, 0, 0, 0]"
      ]
     },
     "execution_count": 16,
     "metadata": {},
     "output_type": "execute_result"
    }
   ],
   "source": [
    "obj.get_ch_status([0])                                                        # 获取所有通道开关状态"
   ]
  },
  {
   "cell_type": "code",
   "execution_count": 7,
   "id": "5bf207d0",
   "metadata": {},
   "outputs": [
    {
     "data": {
      "text/plain": [
       "255"
      ]
     },
     "execution_count": 7,
     "metadata": {},
     "output_type": "execute_result"
    }
   ],
   "source": [
    "obj.set_vol([1,6], -3)                                                        # 所有通道设置5V电压"
   ]
  },
  {
   "cell_type": "code",
   "execution_count": 9,
   "id": "668362aa",
   "metadata": {},
   "outputs": [
    {
     "data": {
      "text/plain": [
       "[-3.000005, 1e-05, 1e-05, 1e-05, 1e-05, -3.000005, 1e-05, 1e-05]"
      ]
     },
     "execution_count": 9,
     "metadata": {},
     "output_type": "execute_result"
    }
   ],
   "source": [
    "obj.get_vol([0])                                                              # 获取所有通道电压"
   ]
  },
  {
   "cell_type": "code",
   "execution_count": 8,
   "id": "99dd06c4",
   "metadata": {},
   "outputs": [
    {
     "data": {
      "text/plain": [
       "[-3.000005, 1e-05, 1e-05, 1e-05, 1e-05, -3.000005, 1e-05, 1e-05]"
      ]
     },
     "execution_count": 8,
     "metadata": {},
     "output_type": "execute_result"
    }
   ],
   "source": [
    "obj._get_vol_dac([0])                                                        # 获取所有通道电压"
   ]
  },
  {
   "cell_type": "code",
   "execution_count": 10,
   "id": "4539d8e6",
   "metadata": {},
   "outputs": [
    {
     "data": {
      "text/plain": [
       "255"
      ]
     },
     "execution_count": 10,
     "metadata": {},
     "output_type": "execute_result"
    }
   ],
   "source": [
    "obj.set_res_option([0], 1)                                                   # 使能通道8端接电阻"
   ]
  },
  {
   "cell_type": "code",
   "execution_count": 19,
   "id": "53368ec3",
   "metadata": {},
   "outputs": [
    {
     "data": {
      "text/plain": [
       "255"
      ]
     },
     "execution_count": 19,
     "metadata": {},
     "output_type": "execute_result"
    }
   ],
   "source": [
    "obj.set_iv_option([1, 6], 1)                                                # 禁用通道1,5,8电流采集功能"
   ]
  },
  {
   "cell_type": "code",
   "execution_count": 22,
   "id": "a638d6e2",
   "metadata": {},
   "outputs": [
    {
     "data": {
      "text/plain": [
       "[3.881e-08,\n",
       " 2.3804e-08,\n",
       " 2.2344e-08,\n",
       " 5.8962e-08,\n",
       " 7.3169e-08,\n",
       " 5.2395999999999995e-08,\n",
       " 5.0826e-08,\n",
       " 2.0341e-08]"
      ]
     },
     "execution_count": 22,
     "metadata": {},
     "output_type": "execute_result"
    }
   ],
   "source": [
    "obj.get_current([0])                                                        # 获取所有通道电流"
   ]
  },
  {
   "cell_type": "code",
   "execution_count": 27,
   "id": "3684f57c",
   "metadata": {},
   "outputs": [
    {
     "data": {
      "text/plain": [
       "255"
      ]
     },
     "execution_count": 27,
     "metadata": {},
     "output_type": "execute_result"
    }
   ],
   "source": [
    "obj.set_ch_off([0])                                                      # 安全关闭所有通道"
   ]
  },
  {
   "cell_type": "code",
   "execution_count": null,
   "id": "1b479765",
   "metadata": {},
   "outputs": [],
   "source": [
    "obj._set_ch_off_fast([0])                                                # 快速关闭所有通道"
   ]
  }
 ],
 "metadata": {
  "kernelspec": {
   "display_name": "Python 3 (ipykernel)",
   "language": "python",
   "name": "python3"
  },
  "language_info": {
   "codemirror_mode": {
    "name": "ipython",
    "version": 3
   },
   "file_extension": ".py",
   "mimetype": "text/x-python",
   "name": "python",
   "nbconvert_exporter": "python",
   "pygments_lexer": "ipython3",
   "version": "3.9.7"
  }
 },
 "nbformat": 4,
 "nbformat_minor": 5
}
