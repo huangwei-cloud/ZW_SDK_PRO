{
 "cells": [
  {
   "cell_type": "code",
   "execution_count": 1,
   "id": "7622cd09",
   "metadata": {},
   "outputs": [],
   "source": [
    "from ZW_DC1000 import DC1000\n",
    "from ctypes import c_int32"
   ]
  },
  {
   "cell_type": "code",
   "execution_count": 2,
   "id": "0eeb4425",
   "metadata": {},
   "outputs": [],
   "source": [
    "obj = DC1000()"
   ]
  },
  {
   "cell_type": "code",
   "execution_count": 3,
   "id": "51516ba9",
   "metadata": {},
   "outputs": [
    {
     "ename": "TimeoutError",
     "evalue": "[WinError 10060] 由于连接方在一段时间后没有正确答复或连接的主机没有反应，连接尝试失败。",
     "output_type": "error",
     "traceback": [
      "\u001b[1;31m---------------------------------------------------------------------------\u001b[0m",
      "\u001b[1;31mTimeoutError\u001b[0m                              Traceback (most recent call last)",
      "\u001b[1;32m~\\AppData\\Local\\Temp/ipykernel_25648/1252990879.py\u001b[0m in \u001b[0;36m<module>\u001b[1;34m\u001b[0m\n\u001b[1;32m----> 1\u001b[1;33m \u001b[0mobj\u001b[0m\u001b[1;33m.\u001b[0m\u001b[0methernet_connect\u001b[0m\u001b[1;33m(\u001b[0m\u001b[1;34m\"192.168.1.20\"\u001b[0m\u001b[1;33m,\u001b[0m \u001b[1;36m8080\u001b[0m\u001b[1;33m)\u001b[0m\u001b[1;33m\u001b[0m\u001b[1;33m\u001b[0m\u001b[0m\n\u001b[0m",
      "\u001b[1;32mE:\\Hw_work\\Python\\ZW_SDK_PRO\\ZWDX_SDK\\ZWDX_DC\\ZW_DC1000.py\u001b[0m in \u001b[0;36methernet_connect\u001b[1;34m(self, ip, port)\u001b[0m\n\u001b[0;32m    447\u001b[0m         \u001b[0mself\u001b[0m\u001b[1;33m.\u001b[0m\u001b[0ms\u001b[0m\u001b[1;33m.\u001b[0m\u001b[0msetsockopt\u001b[0m\u001b[1;33m(\u001b[0m\u001b[0msocket\u001b[0m\u001b[1;33m.\u001b[0m\u001b[0mSOL_SOCKET\u001b[0m\u001b[1;33m,\u001b[0m \u001b[0msocket\u001b[0m\u001b[1;33m.\u001b[0m\u001b[0mSO_KEEPALIVE\u001b[0m\u001b[1;33m,\u001b[0m \u001b[1;32mTrue\u001b[0m\u001b[1;33m)\u001b[0m\u001b[1;33m\u001b[0m\u001b[1;33m\u001b[0m\u001b[0m\n\u001b[0;32m    448\u001b[0m         \u001b[0mself\u001b[0m\u001b[1;33m.\u001b[0m\u001b[0ms\u001b[0m\u001b[1;33m.\u001b[0m\u001b[0mioctl\u001b[0m\u001b[1;33m(\u001b[0m\u001b[0msocket\u001b[0m\u001b[1;33m.\u001b[0m\u001b[0mSIO_KEEPALIVE_VALS\u001b[0m\u001b[1;33m,\u001b[0m \u001b[1;33m(\u001b[0m\u001b[1;36m1\u001b[0m\u001b[1;33m,\u001b[0m \u001b[1;36m60\u001b[0m \u001b[1;33m*\u001b[0m \u001b[1;36m1000\u001b[0m\u001b[1;33m,\u001b[0m \u001b[1;36m10\u001b[0m \u001b[1;33m*\u001b[0m \u001b[1;36m1000\u001b[0m\u001b[1;33m)\u001b[0m\u001b[1;33m)\u001b[0m\u001b[1;33m\u001b[0m\u001b[1;33m\u001b[0m\u001b[0m\n\u001b[1;32m--> 449\u001b[1;33m         \u001b[0mself\u001b[0m\u001b[1;33m.\u001b[0m\u001b[0ms\u001b[0m\u001b[1;33m.\u001b[0m\u001b[0mconnect\u001b[0m\u001b[1;33m(\u001b[0m\u001b[1;33m(\u001b[0m\u001b[0mip\u001b[0m\u001b[1;33m,\u001b[0m \u001b[0mport\u001b[0m\u001b[1;33m)\u001b[0m\u001b[1;33m)\u001b[0m\u001b[1;33m\u001b[0m\u001b[1;33m\u001b[0m\u001b[0m\n\u001b[0m\u001b[0;32m    450\u001b[0m         \u001b[0mself\u001b[0m\u001b[1;33m.\u001b[0m\u001b[0ms\u001b[0m\u001b[1;33m.\u001b[0m\u001b[0msettimeout\u001b[0m\u001b[1;33m(\u001b[0m\u001b[1;36m50\u001b[0m\u001b[1;33m)\u001b[0m\u001b[1;33m\u001b[0m\u001b[1;33m\u001b[0m\u001b[0m\n\u001b[0;32m    451\u001b[0m         \u001b[0mself\u001b[0m\u001b[1;33m.\u001b[0m\u001b[0mconnect_mode\u001b[0m \u001b[1;33m=\u001b[0m \u001b[1;34m\"ethernet\"\u001b[0m\u001b[1;33m\u001b[0m\u001b[1;33m\u001b[0m\u001b[0m\n",
      "\u001b[1;31mTimeoutError\u001b[0m: [WinError 10060] 由于连接方在一段时间后没有正确答复或连接的主机没有反应，连接尝试失败。"
     ]
    }
   ],
   "source": [
    "obj.ethernet_connect(\"192.168.1.20\", 8080)"
   ]
  },
  {
   "cell_type": "code",
   "execution_count": 4,
   "id": "b95e2cbc",
   "metadata": {},
   "outputs": [
    {
     "data": {
      "text/plain": [
       "255"
      ]
     },
     "execution_count": 4,
     "metadata": {},
     "output_type": "execute_result"
    }
   ],
   "source": [
    "obj.set_volt_slope(1000)"
   ]
  },
  {
   "cell_type": "code",
   "execution_count": null,
   "id": "c214b6f9",
   "metadata": {},
   "outputs": [],
   "source": [
    "obj.set_ch_on([0])                                                            # 打开所有通道"
   ]
  },
  {
   "cell_type": "code",
   "execution_count": null,
   "id": "6cc9386e",
   "metadata": {},
   "outputs": [],
   "source": [
    "obj.get_ch_status([0])                                                         # 获取所有通道开关状态"
   ]
  },
  {
   "cell_type": "code",
   "execution_count": 5,
   "id": "5bf207d0",
   "metadata": {},
   "outputs": [
    {
     "data": {
      "text/plain": [
       "255"
      ]
     },
     "execution_count": 5,
     "metadata": {},
     "output_type": "execute_result"
    }
   ],
   "source": [
    "obj.set_vol([1,6], 10)                                                        # 所有通道设置5V电压"
   ]
  },
  {
   "cell_type": "code",
   "execution_count": 5,
   "id": "668362aa",
   "metadata": {},
   "outputs": [
    {
     "data": {
      "text/plain": [
       "[1e-05, 1e-05, 1e-05, 1e-05, 1e-05, 1e-05, 1e-05, 1e-05]"
      ]
     },
     "execution_count": 5,
     "metadata": {},
     "output_type": "execute_result"
    }
   ],
   "source": [
    "obj.get_vol([0])                                                              # 获取所有通道电压"
   ]
  },
  {
   "cell_type": "code",
   "execution_count": 8,
   "id": "99dd06c4",
   "metadata": {},
   "outputs": [
    {
     "data": {
      "text/plain": [
       "[-3.000005, 1e-05, 1e-05, 1e-05, 1e-05, -3.000005, 1e-05, 1e-05]"
      ]
     },
     "execution_count": 8,
     "metadata": {},
     "output_type": "execute_result"
    }
   ],
   "source": [
    "obj._get_vol_dac([0])                                                        # 获取所有通道电压"
   ]
  },
  {
   "cell_type": "code",
   "execution_count": 10,
   "id": "4539d8e6",
   "metadata": {},
   "outputs": [
    {
     "data": {
      "text/plain": [
       "255"
      ]
     },
     "execution_count": 10,
     "metadata": {},
     "output_type": "execute_result"
    }
   ],
   "source": [
    "obj.set_res_option([0], 1)                                                   # 使能通道8端接电阻"
   ]
  },
  {
   "cell_type": "code",
   "execution_count": 19,
   "id": "53368ec3",
   "metadata": {},
   "outputs": [
    {
     "data": {
      "text/plain": [
       "255"
      ]
     },
     "execution_count": 19,
     "metadata": {},
     "output_type": "execute_result"
    }
   ],
   "source": [
    "obj.set_iv_option([1, 6], 1)                                                # 禁用通道1,5,8电流采集功能"
   ]
  },
  {
   "cell_type": "code",
   "execution_count": 22,
   "id": "a638d6e2",
   "metadata": {},
   "outputs": [
    {
     "data": {
      "text/plain": [
       "[3.881e-08,\n",
       " 2.3804e-08,\n",
       " 2.2344e-08,\n",
       " 5.8962e-08,\n",
       " 7.3169e-08,\n",
       " 5.2395999999999995e-08,\n",
       " 5.0826e-08,\n",
       " 2.0341e-08]"
      ]
     },
     "execution_count": 22,
     "metadata": {},
     "output_type": "execute_result"
    }
   ],
   "source": [
    "obj.get_current([0])                                                        # 获取所有通道电流"
   ]
  },
  {
   "cell_type": "code",
   "execution_count": 6,
   "id": "3684f57c",
   "metadata": {},
   "outputs": [
    {
     "data": {
      "text/plain": [
       "255"
      ]
     },
     "execution_count": 6,
     "metadata": {},
     "output_type": "execute_result"
    }
   ],
   "source": [
    "obj.set_ch_off([6])                                                      # 安全关闭所有通道"
   ]
  },
  {
   "cell_type": "code",
   "execution_count": null,
   "id": "1b479765",
   "metadata": {},
   "outputs": [],
   "source": [
    "obj._set_ch_off_fast([0])                                                # 快速关闭所有通道"
   ]
  },
  {
   "cell_type": "code",
   "execution_count": null,
   "id": "68b9da16",
   "metadata": {},
   "outputs": [],
   "source": []
  },
  {
   "cell_type": "code",
   "execution_count": 2,
   "id": "a48bf6ec",
   "metadata": {},
   "outputs": [],
   "source": [
    "i32 = lambda x: c_int32(x).value if x >= 0 else c_int32((1 << 32) + x).value"
   ]
  },
  {
   "cell_type": "code",
   "execution_count": 3,
   "id": "9c830642",
   "metadata": {},
   "outputs": [],
   "source": [
    "y = i32(0xFFFFFFFF)"
   ]
  },
  {
   "cell_type": "code",
   "execution_count": 4,
   "id": "184bda9b",
   "metadata": {},
   "outputs": [
    {
     "name": "stdout",
     "output_type": "stream",
     "text": [
      "-1\n"
     ]
    }
   ],
   "source": [
    "print(y)"
   ]
  },
  {
   "cell_type": "code",
   "execution_count": 13,
   "id": "407f7501",
   "metadata": {},
   "outputs": [],
   "source": [
    "import numpy as np"
   ]
  },
  {
   "cell_type": "code",
   "execution_count": 21,
   "id": "aaf1f267",
   "metadata": {},
   "outputs": [
    {
     "name": "stdout",
     "output_type": "stream",
     "text": [
      "-1\n",
      "-1\n"
     ]
    }
   ],
   "source": [
    "\n",
    "temp = 0xFFFFFFFF\n",
    "print(c_int32(temp).value)\n",
    "temp2 = c_int32((1 << 32) + temp).value\n",
    "print(temp2)"
   ]
  },
  {
   "cell_type": "code",
   "execution_count": 22,
   "id": "ab28c211",
   "metadata": {},
   "outputs": [
    {
     "ename": "OverflowError",
     "evalue": "Python int too large to convert to C long",
     "output_type": "error",
     "traceback": [
      "\u001b[1;31m---------------------------------------------------------------------------\u001b[0m",
      "\u001b[1;31mOverflowError\u001b[0m                             Traceback (most recent call last)",
      "\u001b[1;32m~\\AppData\\Local\\Temp/ipykernel_20848/3159242693.py\u001b[0m in \u001b[0;36m<module>\u001b[1;34m\u001b[0m\n\u001b[1;32m----> 1\u001b[1;33m \u001b[0mnp\u001b[0m\u001b[1;33m.\u001b[0m\u001b[0mint32\u001b[0m\u001b[1;33m(\u001b[0m\u001b[0mtemp\u001b[0m\u001b[1;33m)\u001b[0m\u001b[1;33m\u001b[0m\u001b[1;33m\u001b[0m\u001b[0m\n\u001b[0m",
      "\u001b[1;31mOverflowError\u001b[0m: Python int too large to convert to C long"
     ]
    }
   ],
   "source": [
    "np.int32(temp)"
   ]
  },
  {
   "cell_type": "code",
   "execution_count": 7,
   "id": "20090c98",
   "metadata": {},
   "outputs": [
    {
     "name": "stdout",
     "output_type": "stream",
     "text": [
      "4294967295\n"
     ]
    }
   ],
   "source": [
    "print(temp)"
   ]
  },
  {
   "cell_type": "code",
   "execution_count": 26,
   "id": "1a261b18",
   "metadata": {},
   "outputs": [
    {
     "name": "stdout",
     "output_type": "stream",
     "text": [
      "-0x1\n"
     ]
    }
   ],
   "source": [
    "x = -1\n",
    "print(hex(x))"
   ]
  },
  {
   "cell_type": "code",
   "execution_count": null,
   "id": "8cfc4025",
   "metadata": {},
   "outputs": [],
   "source": []
  }
 ],
 "metadata": {
  "kernelspec": {
   "display_name": "Python 3 (ipykernel)",
   "language": "python",
   "name": "python3"
  },
  "language_info": {
   "codemirror_mode": {
    "name": "ipython",
    "version": 3
   },
   "file_extension": ".py",
   "mimetype": "text/x-python",
   "name": "python",
   "nbconvert_exporter": "python",
   "pygments_lexer": "ipython3",
   "version": "3.9.7"
  }
 },
 "nbformat": 4,
 "nbformat_minor": 5
}
