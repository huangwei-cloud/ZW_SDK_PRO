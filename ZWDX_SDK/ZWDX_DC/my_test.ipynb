{
 "cells": [
  {
   "cell_type": "code",
   "execution_count": 1,
   "id": "7622cd09",
   "metadata": {},
   "outputs": [],
   "source": [
    "from ZW_DC1000 import DC1000, COM_CH, COM_STATUS"
   ]
  },
  {
   "cell_type": "code",
   "execution_count": 2,
   "id": "0eeb4425",
   "metadata": {},
   "outputs": [],
   "source": [
    "obj = DC1000()"
   ]
  },
  {
   "cell_type": "code",
   "execution_count": 3,
   "id": "51516ba9",
   "metadata": {},
   "outputs": [
    {
     "data": {
      "text/plain": [
       "255"
      ]
     },
     "execution_count": 3,
     "metadata": {},
     "output_type": "execute_result"
    }
   ],
   "source": [
    "obj.ethernet_connect(\"192.168.1.20\", 8080)"
   ]
  },
  {
   "cell_type": "code",
   "execution_count": 4,
   "id": "b95e2cbc",
   "metadata": {},
   "outputs": [
    {
     "data": {
      "text/plain": [
       "255"
      ]
     },
     "execution_count": 4,
     "metadata": {},
     "output_type": "execute_result"
    }
   ],
   "source": [
    "obj.set_volt_slope(1000)"
   ]
  },
  {
   "cell_type": "code",
   "execution_count": 5,
   "id": "c214b6f9",
   "metadata": {},
   "outputs": [
    {
     "data": {
      "text/plain": [
       "255"
      ]
     },
     "execution_count": 5,
     "metadata": {},
     "output_type": "execute_result"
    }
   ],
   "source": [
    "obj.set_ch_on([COM_CH.CHALL])                                                       # 打开所有通道"
   ]
  },
  {
   "cell_type": "code",
   "execution_count": 6,
   "id": "6cc9386e",
   "metadata": {},
   "outputs": [
    {
     "data": {
      "text/plain": [
       "[1, 1, 1, 1, 1, 1, 1, 1]"
      ]
     },
     "execution_count": 6,
     "metadata": {},
     "output_type": "execute_result"
    }
   ],
   "source": [
    "obj.get_ch_status([COM_CH.CHALL])                                    # 获取所有通道开关状态"
   ]
  },
  {
   "cell_type": "code",
   "execution_count": 7,
   "id": "5bf207d0",
   "metadata": {},
   "outputs": [
    {
     "data": {
      "text/plain": [
       "255"
      ]
     },
     "execution_count": 7,
     "metadata": {},
     "output_type": "execute_result"
    }
   ],
   "source": [
    "obj.set_vol([COM_CH.CH5], 2)                                                        # 所有通道设置5V电压"
   ]
  },
  {
   "cell_type": "code",
   "execution_count": 8,
   "id": "668362aa",
   "metadata": {},
   "outputs": [
    {
     "data": {
      "text/plain": [
       "[1e-05, 1e-05, 1e-05, 1e-05, 2.0, 1e-05, 1e-05, 1e-05]"
      ]
     },
     "execution_count": 8,
     "metadata": {},
     "output_type": "execute_result"
    }
   ],
   "source": [
    "obj.get_vol([COM_CH.CHALL])                                                         # 获取所有通道电压"
   ]
  },
  {
   "cell_type": "code",
   "execution_count": 9,
   "id": "99dd06c4",
   "metadata": {},
   "outputs": [
    {
     "data": {
      "text/plain": [
       "[1e-05, 1e-05, 1e-05, 1e-05, 2.0, 1e-05, 1e-05, 1e-05]"
      ]
     },
     "execution_count": 9,
     "metadata": {},
     "output_type": "execute_result"
    }
   ],
   "source": [
    "obj._get_vol_dac([COM_CH.CHALL])                                      # 获取所有通道电压"
   ]
  },
  {
   "cell_type": "code",
   "execution_count": 11,
   "id": "4539d8e6",
   "metadata": {},
   "outputs": [
    {
     "data": {
      "text/plain": [
       "255"
      ]
     },
     "execution_count": 11,
     "metadata": {},
     "output_type": "execute_result"
    }
   ],
   "source": [
    "obj.set_res_option([COM_CH.CHALL], COM_STATUS.ENABLE)                                 # 使能通道8端接电阻"
   ]
  },
  {
   "cell_type": "code",
   "execution_count": 17,
   "id": "a638d6e2",
   "metadata": {},
   "outputs": [
    {
     "data": {
      "text/plain": [
       "[1.924546e-06]"
      ]
     },
     "execution_count": 17,
     "metadata": {},
     "output_type": "execute_result"
    }
   ],
   "source": [
    "obj.get_current([COM_CH.CH5])                                            # 获取所有通道电流"
   ]
  },
  {
   "cell_type": "code",
   "execution_count": 18,
   "id": "3684f57c",
   "metadata": {},
   "outputs": [
    {
     "data": {
      "text/plain": [
       "255"
      ]
     },
     "execution_count": 18,
     "metadata": {},
     "output_type": "execute_result"
    }
   ],
   "source": [
    "obj.set_ch_off([COM_CH.CHALL])                                                      # 安全关闭所有通道"
   ]
  },
  {
   "cell_type": "code",
   "execution_count": null,
   "id": "1b479765",
   "metadata": {},
   "outputs": [],
   "source": [
    "obj._set_ch_off_fast([COM_CH.CHALL])                                                # 快速关闭所有通道"
   ]
  }
 ],
 "metadata": {
  "kernelspec": {
   "display_name": "Python 3 (ipykernel)",
   "language": "python",
   "name": "python3"
  },
  "language_info": {
   "codemirror_mode": {
    "name": "ipython",
    "version": 3
   },
   "file_extension": ".py",
   "mimetype": "text/x-python",
   "name": "python",
   "nbconvert_exporter": "python",
   "pygments_lexer": "ipython3",
   "version": "3.9.7"
  }
 },
 "nbformat": 4,
 "nbformat_minor": 5
}
