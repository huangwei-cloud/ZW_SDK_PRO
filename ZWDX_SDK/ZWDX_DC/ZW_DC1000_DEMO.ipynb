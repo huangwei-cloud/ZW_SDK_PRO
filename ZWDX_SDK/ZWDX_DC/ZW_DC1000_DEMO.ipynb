{
 "cells": [
  {
   "cell_type": "code",
   "execution_count": 1,
   "id": "a77f0635",
   "metadata": {},
   "outputs": [],
   "source": [
    "from ZW_DC1000 import DC1000"
   ]
  },
  {
   "cell_type": "code",
   "execution_count": 2,
   "id": "c26bca6a",
   "metadata": {},
   "outputs": [],
   "source": [
    "obj = DC1000()"
   ]
  },
  {
   "cell_type": "code",
   "execution_count": 3,
   "id": "460cb888",
   "metadata": {},
   "outputs": [
    {
     "data": {
      "text/plain": [
       "255"
      ]
     },
     "execution_count": 3,
     "metadata": {},
     "output_type": "execute_result"
    }
   ],
   "source": [
    "obj.ethernet_connect(\"192.168.1.20\", 8080)"
   ]
  },
  {
   "cell_type": "code",
   "execution_count": 4,
   "id": "21d71628",
   "metadata": {},
   "outputs": [
    {
     "data": {
      "text/plain": [
       "255"
      ]
     },
     "execution_count": 4,
     "metadata": {},
     "output_type": "execute_result"
    }
   ],
   "source": [
    "obj.set_volt_slope(1000)"
   ]
  },
  {
   "cell_type": "code",
   "execution_count": 4,
   "id": "ea82d5f7",
   "metadata": {},
   "outputs": [
    {
     "data": {
      "text/plain": [
       "255"
      ]
     },
     "execution_count": 4,
     "metadata": {},
     "output_type": "execute_result"
    }
   ],
   "source": [
    "# 安全打开通道\n",
    "obj.set_ch_on([8])                                                         # 打开通道8\n",
    "obj.set_ch_on([1, 5, 8])                                                   # 打开1,5,8通道\n",
    "obj.set_ch_on([0])                                                         # 打开所有通道"
   ]
  },
  {
   "cell_type": "code",
   "execution_count": 5,
   "id": "af453452",
   "metadata": {},
   "outputs": [
    {
     "data": {
      "text/plain": [
       "[1, 1, 1, 1, 1, 1, 1, 1]"
      ]
     },
     "execution_count": 5,
     "metadata": {},
     "output_type": "execute_result"
    }
   ],
   "source": [
    "# 获取通道开启状态\n",
    "ch8_status = obj.get_ch_status([8])                                        # 获取通道8开关状态\n",
    "ch158_status = obj.get_ch_status([1, 5, 8])                                # 获取通道1,5,8开关状态\n",
    "chall_status = obj.get_ch_status([0])                                      # 获取所有通道开关状态"
   ]
  },
  {
   "cell_type": "code",
   "execution_count": 5,
   "id": "2486365a",
   "metadata": {},
   "outputs": [
    {
     "data": {
      "text/plain": [
       "255"
      ]
     },
     "execution_count": 5,
     "metadata": {},
     "output_type": "execute_result"
    }
   ],
   "source": [
    "# 设置电压\n",
    "obj.set_vol([8], 5)                                                        # 通道5设置5V电压\n",
    "obj.set_vol([1, 5, 8], -5)                                                 # 通道1,5,8设置-5V电压\n",
    "obj.set_vol([0], 5)                                                        # 所有通道设置5V电压"
   ]
  },
  {
   "cell_type": "code",
   "execution_count": 6,
   "id": "c26df839",
   "metadata": {},
   "outputs": [
    {
     "data": {
      "text/plain": [
       "255"
      ]
     },
     "execution_count": 6,
     "metadata": {},
     "output_type": "execute_result"
    }
   ],
   "source": [
    "# 获取电压,用户使用\n",
    "ch8vol = obj.get_vol([8])                                                  # 获取通道8电压\n",
    "ch158vol = obj.get_vol([1, 5, 8])                                          # 获取通道5电压\n",
    "challvol = obj.get_vol([0])                                                # 获取所有通道电压"
   ]
  },
  {
   "cell_type": "code",
   "execution_count": 28,
   "id": "330fcf8f",
   "metadata": {
    "collapsed": true
   },
   "outputs": [
    {
     "name": "stdout",
     "output_type": "stream",
     "text": [
      "[4.999995]\n",
      "[4.999995]\n",
      "[4.999995]\n",
      "[4.999995]\n",
      "[4.999995]\n",
      "[4.999995]\n",
      "[4.999995]\n",
      "[4.999995]\n",
      "[4.999995]\n",
      "[4.999995]\n",
      "[4.999995]\n",
      "[4.999995]\n",
      "[4.999995]\n",
      "[4.999995]\n",
      "[4.999995]\n",
      "[4.999995]\n",
      "[4.999995]\n",
      "[4.999995]\n",
      "[4.999995]\n",
      "[4.999995]\n",
      "[4.999995]\n",
      "[4.999995]\n",
      "[4.999995]\n",
      "[4.999995]\n",
      "[4.999995]\n",
      "[4.999995]\n",
      "[4.999995]\n",
      "[4.999995]\n",
      "[4.999995]\n",
      "[4.999995]\n",
      "[4.999995]\n",
      "[4.999995]\n",
      "[4.999995]\n",
      "[4.999995]\n",
      "[4.999995]\n",
      "[4.999995]\n",
      "[4.999995]\n",
      "[4.999995]\n",
      "[4.999995]\n",
      "[4.999995]\n",
      "[4.999995]\n",
      "[4.999995]\n",
      "[4.999995]\n",
      "[4.999995]\n",
      "[4.999995]\n",
      "[4.999995]\n",
      "[4.999995]\n",
      "[4.999995]\n",
      "[4.999995]\n",
      "[4.999995]\n",
      "[4.999995]\n",
      "[4.999995]\n",
      "[4.999995]\n",
      "[4.999995]\n",
      "[4.999995]\n",
      "[4.999995]\n",
      "[4.999995]\n",
      "[4.999995]\n",
      "[4.999995]\n",
      "[4.999995]\n"
     ]
    }
   ],
   "source": [
    "# 从DAC获取电压,需等待电压正常输出后才能读取,需要延时等待,内部测试使用\n",
    "ch1voldac = obj._get_vol_dac([8])                                          # 获取通道8电压\n",
    "ch158voldac = obj._get_vol_dac([1, 5, 8])                                  # 获取通道5电压\n",
    "challvoldac = obj._get_vol_dac([0])                                        # 获取所有通道电压"
   ]
  },
  {
   "cell_type": "code",
   "execution_count": 9,
   "id": "e0749dde",
   "metadata": {},
   "outputs": [
    {
     "data": {
      "text/plain": [
       "[4.999995, 4.999995, 4.999995]"
      ]
     },
     "execution_count": 9,
     "metadata": {},
     "output_type": "execute_result"
    }
   ],
   "source": [
    "# 使能/禁用通道端接电阻\n",
    "obj.set_res_option([8], 1)                                                 # 使能通道8端接电阻\n",
    "obj.set_res_option([1, 5, 8], 0)                                           # 禁用通道1,5,8端接电阻\n",
    "obj.set_res_option(0, 1)                                                   # 使能所有通道端接电阻"
   ]
  },
  {
   "cell_type": "code",
   "execution_count": 38,
   "id": "b391271b",
   "metadata": {
    "collapsed": true
   },
   "outputs": [
    {
     "name": "stdout",
     "output_type": "stream",
     "text": [
      "[4.999995, 4.999995, 4.999995]\n",
      "[4.999995, 4.999995, 4.999995]\n",
      "[4.999995, 4.999995, 4.999995]\n",
      "[4.999995, 4.999995, 4.999995]\n",
      "[4.999995, 4.999995, 4.999995]\n",
      "[4.999995, 4.999995, 4.999995]\n",
      "[4.999995, 4.999995, 4.999995]\n",
      "[4.999995, 4.999995, 4.999995]\n",
      "[4.999995, 4.999995, 4.999995]\n",
      "[4.999995, 4.999995, 4.999995]\n",
      "[4.999995, 4.999995, 4.999995]\n",
      "[4.999995, 4.999995, 4.999995]\n",
      "[4.999995, 4.999995, 4.999995]\n",
      "[4.999995, 4.999995, 4.999995]\n",
      "[4.999995, 4.999995, 4.999995]\n",
      "[4.999995, 4.999995, 4.999995]\n",
      "[4.999995, 4.999995, 4.999995]\n",
      "[4.999995, 4.999995, 4.999995]\n",
      "[4.999995, 4.999995, 4.999995]\n",
      "[4.999995, 4.999995, 4.999995]\n"
     ]
    }
   ],
   "source": [
    "# 使能/禁用通道端接电容\n",
    "obj.set_cap_option([8], 1)                                                 # 使能通道8端接电容\n",
    "obj.set_cap_option([1, 5, 8], 0)                                           # 禁用通道1,5,8端接电容\n",
    "obj.set_cap_option([0], 1)                                                 # 使能所有通道端接电容"
   ]
  },
  {
   "cell_type": "code",
   "execution_count": 8,
   "id": "16b7ab2a",
   "metadata": {},
   "outputs": [
    {
     "name": "stdout",
     "output_type": "stream",
     "text": [
      "[2.0, 1e-05, -1e-05, -1e-05, -5.000014, 1e-05, 1e-05, -1e-05]\n"
     ]
    }
   ],
   "source": [
    "# 使能/禁用通道电流采集功能\n",
    "obj.set_iv_option([8], 1)                                                 # 启用通道8电流采集功能\n",
    "obj.set_iv_option([1, 5, 8], 0)                                           # 禁用通道1,5,8电流采集功能\n",
    "obj.set_iv_option([0], 0)                                                 # 禁用所有通道电流采集功能"
   ]
  },
  {
   "cell_type": "code",
   "execution_count": null,
   "id": "e0d44bc6",
   "metadata": {},
   "outputs": [],
   "source": [
    "# 获取通道电流\n",
    "ch1a = obj.get_current([8])                                              # 获取通道8电流\n",
    "ch158a = obj.get_current([1, 5, 8])                                      # 获取通道1,5,8电流\n",
    "challa = obj.get_current([0])                                            # 获取所有通道电流"
   ]
  },
  {
   "cell_type": "code",
   "execution_count": null,
   "id": "d5f1aa8b",
   "metadata": {},
   "outputs": [],
   "source": [
    "# 安全关闭通道\n",
    "obj.set_ch_off([8])                                                      # 安全关闭8通道\n",
    "obj.set_ch_off([1, 5, 8])                                                # 安全关闭1,5,8通道\n",
    "obj.set_ch_off([0])                                                      # 安全关闭所有通道"
   ]
  },
  {
   "cell_type": "code",
   "execution_count": 13,
   "id": "d2b49d0e",
   "metadata": {},
   "outputs": [
    {
     "data": {
      "text/plain": [
       "255"
      ]
     },
     "execution_count": 13,
     "metadata": {},
     "output_type": "execute_result"
    }
   ],
   "source": [
    "# 快速关闭通道,内部使用，不建议用户使用\n",
    "obj._set_ch_off_fast([8])                                                # 快速关闭8通道\n",
    "obj._set_ch_off_fast([1, 5, 8])                                          # 快速关闭1,5,8通道\n",
    "obj._set_ch_off_fast([0])                                                # 快速关闭所有通道"
   ]
  },
  {
   "cell_type": "code",
   "execution_count": 14,
   "id": "6742b7cd",
   "metadata": {},
   "outputs": [
    {
     "data": {
      "text/plain": [
       "255"
      ]
     },
     "execution_count": 14,
     "metadata": {},
     "output_type": "execute_result"
    }
   ],
   "source": [
    "# 使能/禁用PWM调节精度到2uv\n",
    "obj._set_pwm_status([8], 1)                                             # 使能通道8PWM\n",
    "obj._set_pwm_status([1, 5, 8], 0)                                       # 禁用通道1,5,8PWM\n",
    "obj._set_pwm_status([0], 1)                                             # 使能所有通道PWM"
   ]
  },
  {
   "cell_type": "code",
   "execution_count": 9,
   "id": "3d1fbdd8",
   "metadata": {},
   "outputs": [
    {
     "name": "stdout",
     "output_type": "stream",
     "text": [
      "[-5.8527000000000005e-08, 4.5031999999999996e-08, 4.0991e-08, 3.0194e-08, 3.0223800000000004e-07, 4.7869e-08, 5.208100000000001e-08, 1.6693000000000006e-08]\n"
     ]
    }
   ],
   "source": [
    "# 设置设备后面复位按钮复位斜率\n",
    "obj._set_reset_volt_slop(1000)                                          # 设置复位斜率1000mv/s"
   ]
  },
  {
   "cell_type": "code",
   "execution_count": 10,
   "id": "09f9aed2",
   "metadata": {},
   "outputs": [],
   "source": [
    "# 改变设备IP, 不用重启设备，改变后自动生效\n",
    "obj.set_ip_mask(\"192.168.1.20\") "
   ]
  },
  {
   "cell_type": "code",
   "execution_count": null,
   "id": "34fffe76",
   "metadata": {},
   "outputs": [],
   "source": [
    "# 获取设备IP,子网掩码MASK,网关GW\n",
    "obj.get_ip_mask()                                                       "
   ]
  }
 ],
 "metadata": {
  "kernelspec": {
   "display_name": "Python 3 (ipykernel)",
   "language": "python",
   "name": "python3"
  },
  "language_info": {
   "codemirror_mode": {
    "name": "ipython",
    "version": 3
   },
   "file_extension": ".py",
   "mimetype": "text/x-python",
   "name": "python",
   "nbconvert_exporter": "python",
   "pygments_lexer": "ipython3",
   "version": "3.9.7"
  }
 },
 "nbformat": 4,
 "nbformat_minor": 5
}
