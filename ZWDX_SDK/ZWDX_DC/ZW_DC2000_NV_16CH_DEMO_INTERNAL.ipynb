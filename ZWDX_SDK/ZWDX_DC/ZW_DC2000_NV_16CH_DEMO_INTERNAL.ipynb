{
 "cells": [
  {
   "cell_type": "code",
   "execution_count": null,
   "id": "a77f0635",
   "metadata": {},
   "outputs": [],
   "source": [
    "from ZW_DC2000_NV_16CH import DC2000"
   ]
  },
  {
   "cell_type": "code",
   "execution_count": null,
   "id": "c26bca6a",
   "metadata": {},
   "outputs": [],
   "source": [
    "obj = DC2000()"
   ]
  },
  {
   "cell_type": "code",
   "execution_count": null,
   "id": "460cb888",
   "metadata": {},
   "outputs": [],
   "source": [
    "obj.ethernet_connect(\"192.168.1.20\", 8080)"
   ]
  },
  {
   "cell_type": "code",
   "execution_count": null,
   "id": "21d71628",
   "metadata": {},
   "outputs": [],
   "source": [
    "obj.set_volt_slope(1000)"
   ]
  },
  {
   "cell_type": "code",
   "execution_count": null,
   "id": "ea82d5f7",
   "metadata": {},
   "outputs": [],
   "source": [
    "# 安全打开通道\n",
    "obj.set_ch_on([8])                                                         # 打开通道8\n",
    "obj.set_ch_on([1, 5, 8])                                                   # 打开1,5,8通道\n",
    "obj.set_ch_on([0])                                                         # 打开所有通道"
   ]
  },
  {
   "cell_type": "code",
   "execution_count": null,
   "id": "af453452",
   "metadata": {},
   "outputs": [],
   "source": [
    "# 获取通道开启状态\n",
    "ch8_status = obj.get_ch_status([8])                                        # 获取通道8开关状态\n",
    "ch158_status = obj.get_ch_status([1, 5, 8])                                # 获取通道1,5,8开关状态\n",
    "chall_status = obj.get_ch_status([0])                                      # 获取所有通道开关状态"
   ]
  },
  {
   "cell_type": "code",
   "execution_count": null,
   "id": "2486365a",
   "metadata": {},
   "outputs": [],
   "source": [
    "# 设置电压\n",
    "obj.set_vol([8], 5)                                                        # 通道5设置5V电压\n",
    "obj.set_vol([1, 5, 8], -5)                                                 # 通道1,5,8设置-5V电压\n",
    "obj.set_vol([0], 5)                                                        # 所有通道设置5V电压"
   ]
  },
  {
   "cell_type": "code",
   "execution_count": null,
   "id": "c26df839",
   "metadata": {},
   "outputs": [],
   "source": [
    "# 获取电压,用户使用\n",
    "ch8vol = obj.get_vol([8])                                                  # 获取通道8电压\n",
    "ch158vol = obj.get_vol([1, 5, 8])                                          # 获取通道5电压\n",
    "challvol = obj.get_vol([0])                                                # 获取所有通道电压"
   ]
  },
  {
   "cell_type": "code",
   "execution_count": null,
   "id": "5cb05f61",
   "metadata": {},
   "outputs": [],
   "source": [
    "# 获取设备温度\n",
    "obj.get_temp()                                                             "
   ]
  },
  {
   "cell_type": "code",
   "execution_count": null,
   "id": "16b7ab2a",
   "metadata": {},
   "outputs": [],
   "source": [
    "obj.set_bw_option([8], 1)                                                   # 启用通道8BW功能\n",
    "obj.set_bw_option([1, 5, 8], 0)                                             # 禁用通道1,5,8BW功能\n",
    "obj.set_bw_option([0], 0)                                                   # 禁用所有通道BW功能"
   ]
  },
  {
   "cell_type": "code",
   "execution_count": null,
   "id": "d5f1aa8b",
   "metadata": {},
   "outputs": [],
   "source": [
    "# 安全关闭通道\n",
    "obj.set_ch_off([8])                                                      # 安全关闭8通道\n",
    "obj.set_ch_off([1, 5, 8])                                                # 安全关闭1,5,8通道\n",
    "obj.set_ch_off([0])                                                      # 安全关闭所有通道"
   ]
  },
  {
   "cell_type": "code",
   "execution_count": null,
   "id": "09f9aed2",
   "metadata": {},
   "outputs": [],
   "source": [
    "# 改变设备IP, 重启设备生效\n",
    "obj.set_ip_mask(\"192.168.1.20\")"
   ]
  },
  {
   "cell_type": "code",
   "execution_count": null,
   "id": "2998be71",
   "metadata": {},
   "outputs": [],
   "source": [
    "obj.get_ip_mask()"
   ]
  },
  {
   "cell_type": "markdown",
   "source": [
    "### 内部测试使用，给客户的时候需要删除"
   ],
   "metadata": {
    "collapsed": false
   },
   "id": "7140a7c827598ccb"
  },
  {
   "cell_type": "code",
   "execution_count": null,
   "outputs": [],
   "source": [
    "# 测试校准时使用，配置校验参数\n",
    "for i in range(1, 9, 1):\n",
    "    obj._set_verify_code(i, 10, 0)"
   ],
   "metadata": {
    "collapsed": false
   },
   "id": "8e999b3f8fe33415"
  },
  {
   "cell_type": "code",
   "execution_count": null,
   "outputs": [],
   "source": [
    "# 从DAC获取电压,需等待电压正常输出后才能读取,需要延时等待,内部测试使用\n",
    "ch1voldac = obj._get_vol_dac([8])                                          # 获取通道8电压\n",
    "ch158voldac = obj._get_vol_dac([1, 5, 8])                                  # 获取通道5电压\n",
    "challvoldac = obj._get_vol_dac([0])                                        # 获取所有通道电压"
   ],
   "metadata": {
    "collapsed": false
   },
   "id": "22abc9b1539ae5ee"
  },
  {
   "cell_type": "code",
   "execution_count": null,
   "outputs": [],
   "source": [
    "# 快速关闭通道,内部使用，不建议用户使用\n",
    "obj._set_ch_off_fast([8])                                                # 快速关闭8通道\n",
    "obj._set_ch_off_fast([1, 5, 8])                                          # 快速关闭1,5,8通道\n",
    "obj._set_ch_off_fast([0])                                                # 快速关闭所有通道"
   ],
   "metadata": {
    "collapsed": false
   },
   "id": "295ba14de7f94ab4"
  },
  {
   "cell_type": "code",
   "execution_count": null,
   "outputs": [],
   "source": [
    "# 使能/禁用PWM调节精度到2uv\n",
    "obj._set_pwm_status([8], 1)                                             # 使能通道8PWM\n",
    "obj._set_pwm_status([1, 5, 8], 0)                                       # 禁用通道1,5,8PWM\n",
    "obj._set_pwm_status([0], 1)                                             # 使能所有通道PWM"
   ],
   "metadata": {
    "collapsed": false
   },
   "id": "8752ea20fa169d20"
  }
 ],
 "metadata": {
  "kernelspec": {
   "display_name": "Python 3 (ipykernel)",
   "language": "python",
   "name": "python3"
  },
  "language_info": {
   "codemirror_mode": {
    "name": "ipython",
    "version": 3
   },
   "file_extension": ".py",
   "mimetype": "text/x-python",
   "name": "python",
   "nbconvert_exporter": "python",
   "pygments_lexer": "ipython3",
   "version": "3.9.7"
  }
 },
 "nbformat": 4,
 "nbformat_minor": 5
}
