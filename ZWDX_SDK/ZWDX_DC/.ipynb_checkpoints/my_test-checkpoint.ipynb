{
 "cells": [
  {
   "cell_type": "code",
   "execution_count": null,
   "id": "d67d935a",
   "metadata": {},
   "outputs": [],
   "source": [
    "from ZW_DC1000 import DC1000, COM_CH, COM_STATUS"
   ]
  },
  {
   "cell_type": "code",
   "execution_count": null,
   "id": "1a102833",
   "metadata": {},
   "outputs": [],
   "source": [
    "obj = DC1000()"
   ]
  },
  {
   "cell_type": "code",
   "execution_count": null,
   "id": "8098eb45",
   "metadata": {},
   "outputs": [],
   "source": [
    "obj.ethernet_connect(\"192.168.1.20\", 8080)"
   ]
  },
  {
   "cell_type": "code",
   "execution_count": null,
   "id": "9eb4a70a",
   "metadata": {},
   "outputs": [],
   "source": [
    "obj.set_volt_slope(1000)"
   ]
  },
  {
   "cell_type": "code",
   "execution_count": null,
   "id": "e0d962be",
   "metadata": {},
   "outputs": [],
   "source": [
    "obj.set_ch_on([COM_CH.CHALL])                                                       # 打开所有通道"
   ]
  },
  {
   "cell_type": "code",
   "execution_count": null,
   "id": "3eb636b6",
   "metadata": {},
   "outputs": [],
   "source": [
    "chall_status = obj.get_ch_status([COM_CH.CHALL])                                    # 获取所有通道开关状态"
   ]
  },
  {
   "cell_type": "code",
   "execution_count": null,
   "id": "9697044e",
   "metadata": {},
   "outputs": [],
   "source": [
    "obj.set_vol([COM_CH.ALL], 5)                                                        # 所有通道设置5V电压"
   ]
  },
  {
   "cell_type": "code",
   "execution_count": null,
   "id": "fe5a7143",
   "metadata": {},
   "outputs": [],
   "source": [
    "obj.get_vol([COM_CH.CHALL])                                                         # 获取所有通道电压"
   ]
  },
  {
   "cell_type": "code",
   "execution_count": null,
   "id": "06dcbfbc",
   "metadata": {},
   "outputs": [],
   "source": [
    "obj._get_vol_dac([COM_CH.CHALL])                                      # 获取所有通道电压"
   ]
  },
  {
   "cell_type": "code",
   "execution_count": null,
   "id": "fa3151e0",
   "metadata": {},
   "outputs": [],
   "source": [
    "obj.set_res_option([COM_CH.CH8], COM_STATUS.ENABLE)                                 # 使能通道8端接电阻"
   ]
  },
  {
   "cell_type": "code",
   "execution_count": null,
   "id": "84376818",
   "metadata": {},
   "outputs": [],
   "source": [
    "obj.get_current([COM_CH.CHALL])                                            # 获取所有通道电流"
   ]
  },
  {
   "cell_type": "code",
   "execution_count": null,
   "id": "c2d0f53e",
   "metadata": {},
   "outputs": [],
   "source": [
    "obj.set_ch_off([COM_CH.CHALL])                                                      # 安全关闭所有通道"
   ]
  },
  {
   "cell_type": "code",
   "execution_count": null,
   "id": "df850a61",
   "metadata": {},
   "outputs": [],
   "source": [
    "obj._set_ch_off_fast([COM_CH.CHALL])                                                # 快速关闭所有通道"
   ]
  }
 ],
 "metadata": {
  "kernelspec": {
   "display_name": "Python 3 (ipykernel)",
   "language": "python",
   "name": "python3"
  },
  "language_info": {
   "codemirror_mode": {
    "name": "ipython",
    "version": 3
   },
   "file_extension": ".py",
   "mimetype": "text/x-python",
   "name": "python",
   "nbconvert_exporter": "python",
   "pygments_lexer": "ipython3",
   "version": "3.9.7"
  }
 },
 "nbformat": 4,
 "nbformat_minor": 5
}
