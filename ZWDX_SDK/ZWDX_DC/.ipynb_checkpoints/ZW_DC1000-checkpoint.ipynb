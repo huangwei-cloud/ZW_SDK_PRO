{
 "cells": [
  {
   "cell_type": "code",
   "execution_count": null,
   "id": "9b504acb",
   "metadata": {},
   "outputs": [],
   "source": [
    "import ZW_DC1000"
   ]
  },
  {
   "cell_type": "code",
   "execution_count": null,
   "id": "02430273",
   "metadata": {},
   "outputs": [],
   "source": [
    "obj = ZW_DC1000.DC1000()"
   ]
  },
  {
   "cell_type": "code",
   "execution_count": null,
   "id": "68e2bed4",
   "metadata": {},
   "outputs": [],
   "source": [
    "obj.ethernet_connect(\"192.168.1.20\", 8080)"
   ]
  },
  {
   "cell_type": "code",
   "execution_count": null,
   "id": "9894e7fa",
   "metadata": {},
   "outputs": [],
   "source": [
    "obj.open_ch(1)"
   ]
  },
  {
   "cell_type": "code",
   "execution_count": null,
   "id": "45158283",
   "metadata": {},
   "outputs": [],
   "source": [
    "obj.close_ch(1)"
   ]
  },
  {
   "cell_type": "code",
   "execution_count": null,
   "id": "6d5fcc73",
   "metadata": {},
   "outputs": [],
   "source": [
    "obj.set_vol(1, 5)"
   ]
  },
  {
   "cell_type": "code",
   "execution_count": null,
   "id": "7648e399",
   "metadata": {},
   "outputs": [],
   "source": [
    "obj.get_current(1)"
   ]
  },
  {
   "cell_type": "code",
   "execution_count": null,
   "id": "cc7e7119",
   "metadata": {},
   "outputs": [],
   "source": [
    "obj.change_ip(\"192.168.1.100\")"
   ]
  },
  {
   "cell_type": "code",
   "execution_count": null,
   "id": "f1690f11",
   "metadata": {},
   "outputs": [],
   "source": []
  },
  {
   "cell_type": "code",
   "execution_count": null,
   "id": "c7ec3af8",
   "metadata": {},
   "outputs": [],
   "source": []
  },
  {
   "cell_type": "code",
   "execution_count": null,
   "id": "92948722",
   "metadata": {},
   "outputs": [],
   "source": []
  },
  {
   "cell_type": "code",
   "execution_count": null,
   "id": "29870be2",
   "metadata": {},
   "outputs": [],
   "source": []
  },
  {
   "cell_type": "code",
   "execution_count": null,
   "id": "ea396019",
   "metadata": {},
   "outputs": [],
   "source": []
  }
 ],
 "metadata": {
  "kernelspec": {
   "display_name": "Python 3 (ipykernel)",
   "language": "python",
   "name": "python3"
  },
  "language_info": {
   "codemirror_mode": {
    "name": "ipython",
    "version": 3
   },
   "file_extension": ".py",
   "mimetype": "text/x-python",
   "name": "python",
   "nbconvert_exporter": "python",
   "pygments_lexer": "ipython3",
   "version": "3.9.7"
  }
 },
 "nbformat": 4,
 "nbformat_minor": 5
}
