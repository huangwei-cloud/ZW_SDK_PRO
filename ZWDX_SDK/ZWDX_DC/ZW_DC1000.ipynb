{
 "cells": [
  {
   "cell_type": "code",
   "execution_count": 1,
   "id": "3f68f85e",
   "metadata": {},
   "outputs": [],
   "source": [
    "import ZW_DC1000"
   ]
  },
  {
   "cell_type": "code",
   "execution_count": 2,
   "id": "753606b8",
   "metadata": {},
   "outputs": [],
   "source": [
    "obj = ZW_DC1000.DC1000()"
   ]
  },
  {
   "cell_type": "code",
   "execution_count": null,
   "id": "a8dfb6e8",
   "metadata": {},
   "outputs": [],
   "source": [
    "#print示列说明"
   ]
  },
  {
   "cell_type": "code",
   "execution_count": 3,
   "id": "eda38f74",
   "metadata": {},
   "outputs": [
    {
     "name": "stdout",
     "output_type": "stream",
     "text": [
      "success\n"
     ]
    }
   ],
   "source": [
    "status = obj.ethernet_connect(\"192.168.1.20\", 8080)\n",
    "#如果需要判断状态，状态如下\n",
    "if status != 0xFF:\n",
    "    #失败\n",
    "else:\n",
    "    #成功"
   ]
  },
  {
   "cell_type": "code",
   "execution_count": 3,
   "id": "249a8de3",
   "metadata": {},
   "outputs": [
    {
     "name": "stdout",
     "output_type": "stream",
     "text": [
      "success\n"
     ]
    }
   ],
   "source": [
    "obj.uart_connect(\"COM3\")"
   ]
  },
  {
   "cell_type": "code",
   "execution_count": 4,
   "id": "b510630c",
   "metadata": {},
   "outputs": [
    {
     "name": "stdout",
     "output_type": "stream",
     "text": [
      "success\n"
     ]
    }
   ],
   "source": [
    "obj.open_ch(1)"
   ]
  },
  {
   "cell_type": "code",
   "execution_count": 5,
   "id": "069751df",
   "metadata": {},
   "outputs": [
    {
     "name": "stdout",
     "output_type": "stream",
     "text": [
      "success\n"
     ]
    }
   ],
   "source": [
    "obj.close_ch(1)"
   ]
  },
  {
   "cell_type": "code",
   "execution_count": null,
   "id": "e85696a2",
   "metadata": {},
   "outputs": [],
   "source": [
    "obj.set_vol(1, 5)"
   ]
  },
  {
   "cell_type": "code",
   "execution_count": 17,
   "id": "755a4ad7",
   "metadata": {},
   "outputs": [
    {
     "data": {
      "text/plain": [
       "8.107699999999999e-08"
      ]
     },
     "execution_count": 17,
     "metadata": {},
     "output_type": "execute_result"
    }
   ],
   "source": [
    "obj.get_current(1)"
   ]
  },
  {
   "cell_type": "code",
   "execution_count": 4,
   "id": "e3ac1f0b",
   "metadata": {},
   "outputs": [],
   "source": [
    "obj.change_ip(\"192.168.10.20\")"
   ]
  },
  {
   "cell_type": "code",
   "execution_count": null,
   "id": "a77f0635",
   "metadata": {},
   "outputs": [],
   "source": []
  },
  {
   "cell_type": "code",
   "execution_count": null,
   "id": "c26bca6a",
   "metadata": {},
   "outputs": [],
   "source": []
  },
  {
   "cell_type": "code",
   "execution_count": null,
   "id": "21d71628",
   "metadata": {},
   "outputs": [],
   "source": []
  },
  {
   "cell_type": "code",
   "execution_count": null,
   "id": "ea82d5f7",
   "metadata": {},
   "outputs": [],
   "source": []
  },
  {
   "cell_type": "code",
   "execution_count": null,
   "id": "af453452",
   "metadata": {},
   "outputs": [],
   "source": []
  }
 ],
 "metadata": {
  "kernelspec": {
   "display_name": "Python 3 (ipykernel)",
   "language": "python",
   "name": "python3"
  },
  "language_info": {
   "codemirror_mode": {
    "name": "ipython",
    "version": 3
   },
   "file_extension": ".py",
   "mimetype": "text/x-python",
   "name": "python",
   "nbconvert_exporter": "python",
   "pygments_lexer": "ipython3",
   "version": "3.9.7"
  }
 },
 "nbformat": 4,
 "nbformat_minor": 5
}
