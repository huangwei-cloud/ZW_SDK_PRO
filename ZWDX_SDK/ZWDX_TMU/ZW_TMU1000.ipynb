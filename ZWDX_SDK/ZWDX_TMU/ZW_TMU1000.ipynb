{
 "cells": [
  {
   "cell_type": "code",
   "execution_count": 1,
   "id": "afb6df08",
   "metadata": {
    "ExecuteTime": {
     "end_time": "2023-10-23T06:36:48.344801Z",
     "start_time": "2023-10-23T06:36:48.228076700Z"
    }
   },
   "outputs": [],
   "source": [
    "import ZW_TMU1000\n",
    "from ZW_TMU1000 import TMU1000, TMU_CLKSRC_OPTION"
   ]
  },
  {
   "cell_type": "code",
   "execution_count": 2,
   "id": "afe7f9f5",
   "metadata": {
    "ExecuteTime": {
     "end_time": "2023-10-23T06:36:49.064190500Z",
     "start_time": "2023-10-23T06:36:49.049253400Z"
    }
   },
   "outputs": [],
   "source": [
    "obj = TMU1000()"
   ]
  },
  {
   "cell_type": "code",
   "execution_count": 3,
   "id": "c9faf2a1",
   "metadata": {
    "scrolled": true,
    "ExecuteTime": {
     "end_time": "2023-10-23T06:36:54.709119800Z",
     "start_time": "2023-10-23T06:36:54.698152400Z"
    }
   },
   "outputs": [],
   "source": [
    "obj.ethernet_connect(\"192.168.1.20\", 8080) # 网口连接控制"
   ]
  },
  {
   "cell_type": "code",
   "execution_count": null,
   "outputs": [],
   "source": [
    "# obj.uart_connect(\"COM3\") # 串口连接控制，与上面二选一"
   ],
   "metadata": {
    "collapsed": false
   },
   "id": "a847d2ec79236a64"
  },
  {
   "cell_type": "code",
   "execution_count": 4,
   "id": "47087b1e",
   "metadata": {},
   "outputs": [],
   "source": [
    "obj.init(TMU_CLKSRC_OPTION.INTERNAL_100MHZ) # 初始化时钟，内时钟100MHz"
   ]
  },
  {
   "cell_type": "code",
   "execution_count": 6,
   "id": "a37a5b85",
   "metadata": {},
   "outputs": [],
   "source": [
    "obj.set_work_mode(1)  # 0：扇出triger fanout; 1: 自己产生self-generate"
   ]
  },
  {
   "cell_type": "code",
   "execution_count": 7,
   "id": "200dba1a",
   "metadata": {},
   "outputs": [],
   "source": [
    "obj.set_pulse_period(1, 10000) # 设置通道1输出周期(单位ns)，周期设置步进10ns\n",
    "obj.set_pulse_period(2, 10000) # 设置通道2输出周期(单位ns)，周期设置步进10ns"
   ]
  },
  {
   "cell_type": "code",
   "execution_count": 8,
   "id": "3408bd60",
   "metadata": {},
   "outputs": [],
   "source": [
    "obj.set_pulse_number(1,0) # 设置通道1脉冲个数 0:表示连续输出  N:表示n个脉冲\n",
    "obj.set_pulse_number(2,0) # 设置通道2脉冲个数 0:表示连续输出  N:表示n个脉冲"
   ]
  },
  {
   "cell_type": "code",
   "execution_count": null,
   "outputs": [],
   "source": [
    "# obj.set_trig_delay(1,0)    # 设置通道1触发延时0ps(单位ps)(可选设置)\n",
    "# obj.set_trig_delay(2,1000) # 设置通道2触发延时1ns(单位ps)(可选设置)"
   ],
   "metadata": {
    "collapsed": false
   },
   "id": "4d90b04d5591bc94"
  },
  {
   "cell_type": "code",
   "execution_count": 9,
   "id": "31c2cbe9",
   "metadata": {},
   "outputs": [],
   "source": [
    "obj.open_channel(1)   # 打开通道1\n",
    "obj.open_channel(2)   # 打开通道2"
   ]
  },
  {
   "cell_type": "code",
   "execution_count": 10,
   "id": "50a586b0",
   "metadata": {},
   "outputs": [],
   "source": [
    "obj.set_trig_mode(0) # 设置触发模式 0 软触发,通道自身同步  1 硬触发，外部TRG"
   ]
  },
  {
   "cell_type": "code",
   "execution_count": 23,
   "id": "a4c6a571",
   "metadata": {},
   "outputs": [],
   "source": [
    "obj.close_channel(1) # 关闭通道1\n",
    "obj.close_channel(2) # 关闭通道2"
   ]
  },
  {
   "cell_type": "markdown",
   "source": [],
   "metadata": {
    "collapsed": false
   },
   "id": "c9d4210211710004"
  },
  {
   "cell_type": "markdown",
   "source": [],
   "metadata": {
    "collapsed": false
   },
   "id": "4fa233e68d504983"
  }
 ],
 "metadata": {
  "kernelspec": {
   "display_name": "Python 3 (ipykernel)",
   "language": "python",
   "name": "python3"
  },
  "language_info": {
   "codemirror_mode": {
    "name": "ipython",
    "version": 3
   },
   "file_extension": ".py",
   "mimetype": "text/x-python",
   "name": "python",
   "nbconvert_exporter": "python",
   "pygments_lexer": "ipython3",
   "version": "3.9.7"
  }
 },
 "nbformat": 4,
 "nbformat_minor": 5
}
