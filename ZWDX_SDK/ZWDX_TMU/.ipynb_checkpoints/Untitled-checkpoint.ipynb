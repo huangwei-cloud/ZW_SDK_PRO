{
 "cells": [
  {
   "cell_type": "code",
   "execution_count": 1,
   "id": "30e6ce9d",
   "metadata": {},
   "outputs": [],
   "source": [
    "import ZW_TMU1000"
   ]
  },
  {
   "cell_type": "code",
   "execution_count": 2,
   "id": "a3dd1361",
   "metadata": {},
   "outputs": [],
   "source": [
    "obj = ZW_TMU1000.TMU1000()  \n",
    "obj.ethernet_connect(\"192.168.1.110\", 8080)"
   ]
  },
  {
   "cell_type": "code",
   "execution_count": 3,
   "id": "6202d186",
   "metadata": {},
   "outputs": [],
   "source": [
    "obj.set_refclk(\"int_ref\", 10) # init() <--signal_init()"
   ]
  },
  {
   "cell_type": "code",
   "execution_count": 4,
   "id": "a1519a34",
   "metadata": {},
   "outputs": [],
   "source": [
    "obj.set_mode(1) # set_work_mode()  internal "
   ]
  },
  {
   "cell_type": "code",
   "execution_count": 5,
   "id": "8541d701",
   "metadata": {},
   "outputs": [],
   "source": [
    "obj.single_init()"
   ]
  },
  {
   "cell_type": "code",
   "execution_count": 6,
   "id": "9ff9e9b0",
   "metadata": {},
   "outputs": [],
   "source": [
    "obj.set_pulse_freq(1, 100000)\n",
    "obj.set_pulse_freq(2, 100)\n",
    "obj.set_pulse_freq(3, 100)\n",
    "obj.set_pulse_freq(4, 100)\n",
    "obj.set_pulse_freq(5, 100)\n",
    "obj.set_pulse_freq(6, 100)\n",
    "obj.set_pulse_freq(7, 100)\n",
    "obj.set_pulse_freq(8, 100)\n",
    "obj.set_pulse_number(1, 0)\n",
    "obj.set_pulse_number(2, 0)\n",
    "obj.set_pulse_number(3, 0)\n",
    "obj.set_pulse_number(4, 0)\n",
    "obj.set_pulse_number(5, 0)\n",
    "obj.set_pulse_number(6, 0)\n",
    "obj.set_pulse_number(7, 0)\n",
    "obj.set_pulse_number(8, 0)\n"
   ]
  },
  {
   "cell_type": "code",
   "execution_count": 7,
   "id": "ec0a6892",
   "metadata": {},
   "outputs": [],
   "source": [
    "obj.open_channel(1)\n",
    "obj.open_channel(2)\n",
    "obj.open_channel(3)\n",
    "obj.open_channel(4)\n",
    "obj.open_channel(5)\n",
    "obj.open_channel(6)\n",
    "obj.open_channel(7)\n",
    "obj.open_channel(8)"
   ]
  },
  {
   "cell_type": "code",
   "execution_count": null,
   "id": "dbeb7d5c",
   "metadata": {},
   "outputs": [],
   "source": [
    "obj.set_trig_mode(0) # 设置触发模式 0 软触发,通道自身同步  1 硬触发，外部TRG"
   ]
  }
 ],
 "metadata": {
  "kernelspec": {
   "display_name": "Python 3 (ipykernel)",
   "language": "python",
   "name": "python3"
  },
  "language_info": {
   "codemirror_mode": {
    "name": "ipython",
    "version": 3
   },
   "file_extension": ".py",
   "mimetype": "text/x-python",
   "name": "python",
   "nbconvert_exporter": "python",
   "pygments_lexer": "ipython3",
   "version": "3.9.7"
  }
 },
 "nbformat": 4,
 "nbformat_minor": 5
}
