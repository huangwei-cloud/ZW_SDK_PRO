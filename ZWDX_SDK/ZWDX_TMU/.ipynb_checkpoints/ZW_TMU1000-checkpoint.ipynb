{
 "cells": [
  {
   "cell_type": "code",
   "execution_count": 1,
   "id": "afb6df08",
   "metadata": {},
   "outputs": [],
   "source": [
    "import ZW_TMU1000\n",
    "from ZW_TMU1000 import TMU1000, TMU_CLKSRC_OPTION"
   ]
  },
  {
   "cell_type": "code",
   "execution_count": 2,
   "id": "afe7f9f5",
   "metadata": {},
   "outputs": [],
   "source": [
    "obj = TMU1000()"
   ]
  },
  {
   "cell_type": "code",
   "execution_count": 3,
   "id": "c9faf2a1",
   "metadata": {
    "scrolled": true
   },
   "outputs": [],
   "source": [
    "obj.ethernet_connect(\"192.168.1.110\", 8080)#网口控制"
   ]
  },
  {
   "cell_type": "code",
   "execution_count": 4,
   "id": "47087b1e",
   "metadata": {},
   "outputs": [],
   "source": [
    "obj.init(TMU_CLKSRC_OPTION.INTERNAL_100MHZ)"
   ]
  },
  {
   "cell_type": "code",
   "execution_count": 6,
   "id": "a37a5b85",
   "metadata": {},
   "outputs": [],
   "source": [
    "obj.set_work_mode(1)  # 0：扇出triger fanout; 1: 自己产生self-generate"
   ]
  },
  {
   "cell_type": "code",
   "execution_count": 7,
   "id": "200dba1a",
   "metadata": {},
   "outputs": [],
   "source": [
    "obj.set_pulse_period(1, 10000) # 设置通道输出周期(单位ns)，周期设置步进10ns\n",
    "obj.set_pulse_period(2, 10000) # 设置通道输出周期(单位ns)，周期设置步进10ns"
   ]
  },
  {
   "cell_type": "code",
   "execution_count": 8,
   "id": "3408bd60",
   "metadata": {},
   "outputs": [],
   "source": [
    "obj.set_pulse_number(1,0) # 0:表示连续输出  N:表示n个脉冲\n",
    "obj.set_pulse_number(2,0) # 0:表示连续输出  N:表示n个脉冲"
   ]
  },
  {
   "cell_type": "code",
   "execution_count": 9,
   "id": "31c2cbe9",
   "metadata": {},
   "outputs": [],
   "source": [
    "obj.open_channel(1)   # 打开通道\n",
    "obj.open_channel(2)   # 打开通道"
   ]
  },
  {
   "cell_type": "code",
   "execution_count": 10,
   "id": "50a586b0",
   "metadata": {},
   "outputs": [],
   "source": [
    "obj.set_trig_mode(0) # 设置触发模式 0 软触发,通道自身同步  1 硬触发，外部TRG"
   ]
  },
  {
   "cell_type": "code",
   "execution_count": 23,
   "id": "a4c6a571",
   "metadata": {},
   "outputs": [],
   "source": [
    "obj.close_channel(1) # 关闭通道\n",
    "obj.close_channel(2)"
   ]
  },
  {
   "cell_type": "code",
   "execution_count": 15,
   "id": "9a261ba0",
   "metadata": {},
   "outputs": [],
   "source": [
    "obj.set_trig_delay(1,0)  #通道1延时值设置(单位ps)\n",
    "obj.set_trig_delay(2,1000)"
   ]
  },
  {
   "cell_type": "code",
   "execution_count": null,
   "id": "b25542ec",
   "metadata": {},
   "outputs": [],
   "source": []
  }
 ],
 "metadata": {
  "kernelspec": {
   "display_name": "Python 3 (ipykernel)",
   "language": "python",
   "name": "python3"
  },
  "language_info": {
   "codemirror_mode": {
    "name": "ipython",
    "version": 3
   },
   "file_extension": ".py",
   "mimetype": "text/x-python",
   "name": "python",
   "nbconvert_exporter": "python",
   "pygments_lexer": "ipython3",
   "version": "3.9.7"
  }
 },
 "nbformat": 4,
 "nbformat_minor": 5
}
